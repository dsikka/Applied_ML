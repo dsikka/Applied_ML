{
 "cells": [
  {
   "cell_type": "code",
   "execution_count": 1,
   "metadata": {},
   "outputs": [],
   "source": [
    "import numpy as np\n",
    "import pandas as pd\n",
    "import matplotlib.pyplot as plt\n",
    "import sklearn\n",
    "from sklearn.datasets import fetch_openml\n",
    "from sklearn.model_selection import train_test_split, GridSearchCV, KFold, StratifiedKFold\n",
    "from sklearn.linear_model import LogisticRegression\n",
    "from sklearn import preprocessing\n",
    "from sklearn.pipeline import make_pipeline\n",
    "from sklearn.compose import make_column_transformer\n",
    "from sklearn.model_selection import cross_val_score\n",
    "from sklearn.svm import LinearSVC\n",
    "from sklearn.neighbors import KNeighborsClassifier\n",
    "import warnings\n",
    "from sklearn.exceptions import ConvergenceWarning"
   ]
  },
  {
   "cell_type": "code",
   "execution_count": 2,
   "metadata": {},
   "outputs": [],
   "source": [
    "warnings.simplefilter('ignore', ConvergenceWarning)"
   ]
  },
  {
   "cell_type": "markdown",
   "metadata": {},
   "source": [
    "## Get the data"
   ]
  },
  {
   "cell_type": "code",
   "execution_count": 3,
   "metadata": {},
   "outputs": [
    {
     "data": {
      "text/html": [
       "<div>\n",
       "<style scoped>\n",
       "    .dataframe tbody tr th:only-of-type {\n",
       "        vertical-align: middle;\n",
       "    }\n",
       "\n",
       "    .dataframe tbody tr th {\n",
       "        vertical-align: top;\n",
       "    }\n",
       "\n",
       "    .dataframe thead th {\n",
       "        text-align: right;\n",
       "    }\n",
       "</style>\n",
       "<table border=\"1\" class=\"dataframe\">\n",
       "  <thead>\n",
       "    <tr style=\"text-align: right;\">\n",
       "      <th></th>\n",
       "      <th>checking_status</th>\n",
       "      <th>duration</th>\n",
       "      <th>credit_history</th>\n",
       "      <th>purpose</th>\n",
       "      <th>credit_amount</th>\n",
       "      <th>savings_status</th>\n",
       "      <th>employment</th>\n",
       "      <th>installment_commitment</th>\n",
       "      <th>personal_status</th>\n",
       "      <th>other_parties</th>\n",
       "      <th>residence_since</th>\n",
       "      <th>property_magnitude</th>\n",
       "      <th>age</th>\n",
       "      <th>other_payment_plans</th>\n",
       "      <th>housing</th>\n",
       "      <th>existing_credits</th>\n",
       "      <th>job</th>\n",
       "      <th>num_dependents</th>\n",
       "      <th>own_telephone</th>\n",
       "      <th>foreign_worker</th>\n",
       "    </tr>\n",
       "  </thead>\n",
       "  <tbody>\n",
       "    <tr>\n",
       "      <th>0</th>\n",
       "      <td>&lt;0</td>\n",
       "      <td>6.0</td>\n",
       "      <td>critical/other existing credit</td>\n",
       "      <td>radio/tv</td>\n",
       "      <td>1169.0</td>\n",
       "      <td>no known savings</td>\n",
       "      <td>&gt;=7</td>\n",
       "      <td>4.0</td>\n",
       "      <td>male single</td>\n",
       "      <td>none</td>\n",
       "      <td>4.0</td>\n",
       "      <td>real estate</td>\n",
       "      <td>67.0</td>\n",
       "      <td>none</td>\n",
       "      <td>own</td>\n",
       "      <td>2.0</td>\n",
       "      <td>skilled</td>\n",
       "      <td>1.0</td>\n",
       "      <td>yes</td>\n",
       "      <td>yes</td>\n",
       "    </tr>\n",
       "    <tr>\n",
       "      <th>1</th>\n",
       "      <td>0&lt;=X&lt;200</td>\n",
       "      <td>48.0</td>\n",
       "      <td>existing paid</td>\n",
       "      <td>radio/tv</td>\n",
       "      <td>5951.0</td>\n",
       "      <td>&lt;100</td>\n",
       "      <td>1&lt;=X&lt;4</td>\n",
       "      <td>2.0</td>\n",
       "      <td>female div/dep/mar</td>\n",
       "      <td>none</td>\n",
       "      <td>2.0</td>\n",
       "      <td>real estate</td>\n",
       "      <td>22.0</td>\n",
       "      <td>none</td>\n",
       "      <td>own</td>\n",
       "      <td>1.0</td>\n",
       "      <td>skilled</td>\n",
       "      <td>1.0</td>\n",
       "      <td>none</td>\n",
       "      <td>yes</td>\n",
       "    </tr>\n",
       "    <tr>\n",
       "      <th>2</th>\n",
       "      <td>no checking</td>\n",
       "      <td>12.0</td>\n",
       "      <td>critical/other existing credit</td>\n",
       "      <td>education</td>\n",
       "      <td>2096.0</td>\n",
       "      <td>&lt;100</td>\n",
       "      <td>4&lt;=X&lt;7</td>\n",
       "      <td>2.0</td>\n",
       "      <td>male single</td>\n",
       "      <td>none</td>\n",
       "      <td>3.0</td>\n",
       "      <td>real estate</td>\n",
       "      <td>49.0</td>\n",
       "      <td>none</td>\n",
       "      <td>own</td>\n",
       "      <td>1.0</td>\n",
       "      <td>unskilled resident</td>\n",
       "      <td>2.0</td>\n",
       "      <td>none</td>\n",
       "      <td>yes</td>\n",
       "    </tr>\n",
       "    <tr>\n",
       "      <th>3</th>\n",
       "      <td>&lt;0</td>\n",
       "      <td>42.0</td>\n",
       "      <td>existing paid</td>\n",
       "      <td>furniture/equipment</td>\n",
       "      <td>7882.0</td>\n",
       "      <td>&lt;100</td>\n",
       "      <td>4&lt;=X&lt;7</td>\n",
       "      <td>2.0</td>\n",
       "      <td>male single</td>\n",
       "      <td>guarantor</td>\n",
       "      <td>4.0</td>\n",
       "      <td>life insurance</td>\n",
       "      <td>45.0</td>\n",
       "      <td>none</td>\n",
       "      <td>for free</td>\n",
       "      <td>1.0</td>\n",
       "      <td>skilled</td>\n",
       "      <td>2.0</td>\n",
       "      <td>none</td>\n",
       "      <td>yes</td>\n",
       "    </tr>\n",
       "    <tr>\n",
       "      <th>4</th>\n",
       "      <td>&lt;0</td>\n",
       "      <td>24.0</td>\n",
       "      <td>delayed previously</td>\n",
       "      <td>new car</td>\n",
       "      <td>4870.0</td>\n",
       "      <td>&lt;100</td>\n",
       "      <td>1&lt;=X&lt;4</td>\n",
       "      <td>3.0</td>\n",
       "      <td>male single</td>\n",
       "      <td>none</td>\n",
       "      <td>4.0</td>\n",
       "      <td>no known property</td>\n",
       "      <td>53.0</td>\n",
       "      <td>none</td>\n",
       "      <td>for free</td>\n",
       "      <td>2.0</td>\n",
       "      <td>skilled</td>\n",
       "      <td>2.0</td>\n",
       "      <td>none</td>\n",
       "      <td>yes</td>\n",
       "    </tr>\n",
       "  </tbody>\n",
       "</table>\n",
       "</div>"
      ],
      "text/plain": [
       "  checking_status  duration                  credit_history  \\\n",
       "0              <0       6.0  critical/other existing credit   \n",
       "1        0<=X<200      48.0                   existing paid   \n",
       "2     no checking      12.0  critical/other existing credit   \n",
       "3              <0      42.0                   existing paid   \n",
       "4              <0      24.0              delayed previously   \n",
       "\n",
       "               purpose  credit_amount    savings_status employment  \\\n",
       "0             radio/tv         1169.0  no known savings        >=7   \n",
       "1             radio/tv         5951.0              <100     1<=X<4   \n",
       "2            education         2096.0              <100     4<=X<7   \n",
       "3  furniture/equipment         7882.0              <100     4<=X<7   \n",
       "4              new car         4870.0              <100     1<=X<4   \n",
       "\n",
       "   installment_commitment     personal_status other_parties  residence_since  \\\n",
       "0                     4.0         male single          none              4.0   \n",
       "1                     2.0  female div/dep/mar          none              2.0   \n",
       "2                     2.0         male single          none              3.0   \n",
       "3                     2.0         male single     guarantor              4.0   \n",
       "4                     3.0         male single          none              4.0   \n",
       "\n",
       "  property_magnitude   age other_payment_plans   housing  existing_credits  \\\n",
       "0        real estate  67.0                none       own               2.0   \n",
       "1        real estate  22.0                none       own               1.0   \n",
       "2        real estate  49.0                none       own               1.0   \n",
       "3     life insurance  45.0                none  for free               1.0   \n",
       "4  no known property  53.0                none  for free               2.0   \n",
       "\n",
       "                  job  num_dependents own_telephone foreign_worker  \n",
       "0             skilled             1.0           yes            yes  \n",
       "1             skilled             1.0          none            yes  \n",
       "2  unskilled resident             2.0          none            yes  \n",
       "3             skilled             2.0          none            yes  \n",
       "4             skilled             2.0          none            yes  "
      ]
     },
     "execution_count": 3,
     "metadata": {},
     "output_type": "execute_result"
    }
   ],
   "source": [
    "df = fetch_openml(\"credit-g\", as_frame=True)\n",
    "target = df.target\n",
    "df.data.head()"
   ]
  },
  {
   "cell_type": "markdown",
   "metadata": {},
   "source": [
    "## 1.1 \n",
    "Determine which features are continuous and which are categorical."
   ]
  },
  {
   "cell_type": "markdown",
   "metadata": {},
   "source": [
    "Based on the description of the data provided, foreign_worker, own_telephone, job, housing, other_payment_plans, property_magnitude, other_parites, personal_status, employment, savings_status, purpose, credit_history, and checking_status, are all categorical as these features consist of a finite number of distinct groups. In contrast, duration, credit_amount, age, installment_commitment, residence_since, existing_credits, and num_dependents are all continuous. Specifically, number of dependents, existing credits, installment commitment, and length of residencey may be better described as discrete features, however, for the context of this assignment, they have been treated as continuous."
   ]
  },
  {
   "cell_type": "code",
   "execution_count": 4,
   "metadata": {},
   "outputs": [
    {
     "name": "stdout",
     "output_type": "stream",
     "text": [
      "Categorical:  checking_status\n",
      "Continuous :  duration\n",
      "Categorical:  credit_history\n",
      "Categorical:  purpose\n",
      "Continuous :  credit_amount\n",
      "Categorical:  savings_status\n",
      "Categorical:  employment\n",
      "Continuous :  installment_commitment\n",
      "Categorical:  personal_status\n",
      "Categorical:  other_parties\n",
      "Continuous :  residence_since\n",
      "Categorical:  property_magnitude\n",
      "Continuous :  age\n",
      "Categorical:  other_payment_plans\n",
      "Categorical:  housing\n",
      "Continuous :  existing_credits\n",
      "Categorical:  job\n",
      "Continuous :  num_dependents\n",
      "Categorical:  own_telephone\n",
      "Categorical:  foreign_worker\n"
     ]
    }
   ],
   "source": [
    "# Categorical and Continuous Data\n",
    "categorical_total = []\n",
    "continuous = []\n",
    "for col in df.data.columns:\n",
    "    if df.data[col].dtypes == np.float64:\n",
    "        print('Continuous : ', col)\n",
    "        continuous.append(col)\n",
    "    else:\n",
    "        print('Categorical: ', col)\n",
    "        categorical_total.append(col)"
   ]
  },
  {
   "cell_type": "markdown",
   "metadata": {},
   "source": [
    "## 1.2 \n",
    "Visualize the univariate distribution of each continuous feature, and the distribution of the target"
   ]
  },
  {
   "cell_type": "code",
   "execution_count": 5,
   "metadata": {},
   "outputs": [
    {
     "data": {
      "image/png": "[encoded data removed]",
      "text/plain": [
       "<Figure size 1584x1584 with 7 Axes>"
      ]
     },
     "metadata": {
      "needs_background": "light"
     },
     "output_type": "display_data"
    }
   ],
   "source": [
    "# Distribution of continuous variables\n",
    "fig, ax = plt.subplots(4, 2, figsize=(22,22))\n",
    "ax1, ax2, ax3, ax4, ax5, ax6, ax7, ax8 = ax.ravel()\n",
    "ax1.hist(df.data['age'], bins='auto')\n",
    "ax1.set_ylabel('Count', fontsize=15)\n",
    "ax1.set_xlabel('Age (years)', fontsize=15)\n",
    "\n",
    "ax2.hist(df.data['duration'], bins='auto')\n",
    "ax2.set_ylabel('Count', fontsize=15)\n",
    "ax2.set_xlabel('Duration (months)', fontsize=15)\n",
    "\n",
    "ax3.hist(df.data['credit_amount'], bins='auto')\n",
    "ax3.set_ylabel('Count', fontsize=15)\n",
    "ax3.set_xlabel('Credit Amount', fontsize=15)\n",
    "\n",
    "ax4.hist(df.data['num_dependents'], bins='auto')\n",
    "ax4.set_ylabel('Count', fontsize=15)\n",
    "ax4.set_xlabel('Number of Dependents', fontsize=15)\n",
    "\n",
    "ax5.hist(df.data['existing_credits'], bins='auto')\n",
    "ax5.set_ylabel('Count', fontsize=15)\n",
    "ax5.set_xlabel('Existing Credits', fontsize=15)\n",
    "\n",
    "ax6.hist(df.data['installment_commitment'], bins='auto')\n",
    "ax6.set_ylabel('Count', fontsize=15)\n",
    "ax6.set_xlabel('Installment Commitment (%)', fontsize=15)\n",
    "\n",
    "ax7.hist(df.data['residence_since'], bins='auto')\n",
    "ax7.set_ylabel('Count', fontsize=15)\n",
    "ax7.set_xlabel('Length of Residence (years)', fontsize=15)\n",
    "\n",
    "fig.delaxes(ax8)\n",
    "plt.show()"
   ]
  },
  {
   "cell_type": "code",
   "execution_count": 6,
   "metadata": {},
   "outputs": [
    {
     "data": {
      "image/png": "[encoded data removed]",
      "text/plain": [
       "<Figure size 504x504 with 1 Axes>"
      ]
     },
     "metadata": {
      "needs_background": "light"
     },
     "output_type": "display_data"
    }
   ],
   "source": [
    "# Distribution of the target\n",
    "target_names, target_nums = np.unique(target, return_counts=True)\n",
    "fig, ax = plt.subplots(1,1, figsize=(7,7))\n",
    "ax.bar(target_names, target_nums)\n",
    "ax.set_xlabel('Targets', fontsize=12)\n",
    "ax.set_ylabel('Target Count', fontsize=12)\n",
    "ax.set_title('Target Distribution', fontsize=15)\n",
    "plt.show()"
   ]
  },
  {
   "cell_type": "markdown",
   "metadata": {},
   "source": [
    "##  1.3 \n",
    "Split data into training and test set. Do not use the test set until a final evaluation in 1.5. Preprocess the data (such as treatment of categorical variables) without using a pipeline and evaluate an initial LogisticRegression model with an training/validation split."
   ]
  },
  {
   "cell_type": "code",
   "execution_count": 7,
   "metadata": {},
   "outputs": [],
   "source": [
    "# Preprocessing: label encode target class\n",
    "label_encoder = preprocessing.LabelEncoder()\n",
    "encoded_target = label_encoder.fit_transform(target)"
   ]
  },
  {
   "cell_type": "markdown",
   "metadata": {},
   "source": [
    "One-hot encode categorical variables"
   ]
  },
  {
   "cell_type": "code",
   "execution_count": 8,
   "metadata": {},
   "outputs": [],
   "source": [
    "X_train_val, X_test, y_train_val, y_test = train_test_split(df.data, encoded_target, stratify=encoded_target, shuffle=True, random_state=0)\n",
    "X_train, X_val, y_train, y_val = train_test_split(X_train_val, y_train_val, stratify=y_train_val, shuffle=True, random_state=0)"
   ]
  },
  {
   "cell_type": "code",
   "execution_count": 9,
   "metadata": {},
   "outputs": [],
   "source": [
    "X_train_ohe = pd.get_dummies(X_train, columns=categorical_total)\n",
    "X_val_ohe = pd.get_dummies(X_val, columns=categorical_total) "
   ]
  },
  {
   "cell_type": "markdown",
   "metadata": {},
   "source": [
    "Fit model on training data and score on validation"
   ]
  },
  {
   "cell_type": "code",
   "execution_count": 10,
   "metadata": {},
   "outputs": [
    {
     "data": {
      "text/plain": [
       "0.7606382978723404"
      ]
     },
     "execution_count": 10,
     "metadata": {},
     "output_type": "execute_result"
    }
   ],
   "source": [
    "logis = LogisticRegression().fit(X_train_ohe, y_train)\n",
    "logis.score(X_val_ohe, y_val)"
   ]
  },
  {
   "cell_type": "markdown",
   "metadata": {},
   "source": [
    "## 1.4 \n",
    "Use ColumnTransformer and pipeline to encode categorical variables (your choice of\n",
    "OneHotEncoder or another one from the categorical_encoder package, or both). Evaluate\n",
    "Logistic Regression, linear support vector machines and nearest neighbors using\n",
    "cross-validation. How different are the results? How does scaling the continuous features with\n",
    "StandardScaler influence the results?"
   ]
  },
  {
   "cell_type": "code",
   "execution_count": 11,
   "metadata": {},
   "outputs": [],
   "source": [
    "preprocess = make_column_transformer((preprocessing.OneHotEncoder(), categorical_total))\n",
    "cv_original = StratifiedKFold(n_splits=10, shuffle=True, random_state=0)"
   ]
  },
  {
   "cell_type": "code",
   "execution_count": 12,
   "metadata": {},
   "outputs": [
    {
     "data": {
      "text/plain": [
       "0.74"
      ]
     },
     "execution_count": 12,
     "metadata": {},
     "output_type": "execute_result"
    }
   ],
   "source": [
    "logis_pipe = make_pipeline(preprocess, LogisticRegression())\n",
    "logis_scores = cross_val_score(logis_pipe, X_train_val, y_train_val, cv=cv_original)\n",
    "np.mean(logis_scores)"
   ]
  },
  {
   "cell_type": "code",
   "execution_count": 13,
   "metadata": {},
   "outputs": [
    {
     "data": {
      "text/plain": [
       "0.7413333333333334"
      ]
     },
     "execution_count": 13,
     "metadata": {},
     "output_type": "execute_result"
    }
   ],
   "source": [
    "svm_pipe = make_pipeline(preprocess, LinearSVC())\n",
    "svm_scores = cross_val_score(svm_pipe, X_train_val, y_train_val, cv=cv_original)\n",
    "np.mean(svm_scores)"
   ]
  },
  {
   "cell_type": "code",
   "execution_count": 14,
   "metadata": {},
   "outputs": [
    {
     "data": {
      "text/plain": [
       "0.6986666666666667"
      ]
     },
     "execution_count": 14,
     "metadata": {},
     "output_type": "execute_result"
    }
   ],
   "source": [
    "nn_pipe = make_pipeline(preprocess, KNeighborsClassifier())\n",
    "nn_scores = cross_val_score(nn_pipe, X_train_val, y_train_val, cv=cv_original)\n",
    "np.mean(nn_scores)"
   ]
  },
  {
   "cell_type": "markdown",
   "metadata": {},
   "source": [
    "Add in standard scalar"
   ]
  },
  {
   "cell_type": "code",
   "execution_count": 15,
   "metadata": {},
   "outputs": [],
   "source": [
    "preprocess_with_ss = make_column_transformer((preprocessing.OneHotEncoder(), categorical_total), \n",
    "                                             (preprocessing.StandardScaler(), continuous))"
   ]
  },
  {
   "cell_type": "code",
   "execution_count": 16,
   "metadata": {},
   "outputs": [
    {
     "data": {
      "text/plain": [
       "0.748"
      ]
     },
     "execution_count": 16,
     "metadata": {},
     "output_type": "execute_result"
    }
   ],
   "source": [
    "logis_pipe = make_pipeline(preprocess_with_ss, LogisticRegression())\n",
    "logis_scores = cross_val_score(logis_pipe, X_train_val, y_train_val, cv=cv_original)\n",
    "np.mean(logis_scores)"
   ]
  },
  {
   "cell_type": "code",
   "execution_count": 17,
   "metadata": {},
   "outputs": [
    {
     "data": {
      "text/plain": [
       "0.7546666666666667"
      ]
     },
     "execution_count": 17,
     "metadata": {},
     "output_type": "execute_result"
    }
   ],
   "source": [
    "svm_pipe = make_pipeline(preprocess_with_ss, LinearSVC())\n",
    "svm_scores = cross_val_score(svm_pipe, X_train_val, y_train_val, cv=cv_original)\n",
    "np.mean(svm_scores)"
   ]
  },
  {
   "cell_type": "code",
   "execution_count": 18,
   "metadata": {},
   "outputs": [
    {
     "data": {
      "text/plain": [
       "0.7346666666666667"
      ]
     },
     "execution_count": 18,
     "metadata": {},
     "output_type": "execute_result"
    }
   ],
   "source": [
    "nn_pipe = make_pipeline(preprocess_with_ss, KNeighborsClassifier())\n",
    "nn_scores = cross_val_score(nn_pipe, X_train_val, y_train_val, cv=cv_original)\n",
    "np.mean(nn_scores)"
   ]
  },
  {
   "cell_type": "markdown",
   "metadata": {},
   "source": [
    "When using logistic regression, linear SVM and nearest neighbors withotu scaling, the results are fairly similar as all three produce average cross validation accuracy scores ranging from 69%-74% accuracy. However, KNN performs the poorest of the three with logistic regression and linear SVM producing closer accuracy values which are higher. After adding in the standard scaler to scale the continuous data, all three models improve in their mean cross validation score, shifting the score range to 72%-75%. With this improvement, KNN is once against the poorest of the three models, producing the lowest accuracy score while linear SVM and logistic regression both have higher score values which are closer together."
   ]
  },
  {
   "cell_type": "markdown",
   "metadata": {},
   "source": [
    "# 1.5 \n",
    "Tune the parameters using GridSearchCV. Do the results improve? Evaluate only the best\n",
    "model on the test set. Visualize the performance as function of the parameters for all three models."
   ]
  },
  {
   "cell_type": "code",
   "execution_count": 19,
   "metadata": {},
   "outputs": [],
   "source": [
    "preprocess_with_ss = make_column_transformer((preprocessing.OneHotEncoder(), categorical_total), \n",
    "                                            (preprocessing.StandardScaler(), continuous))\n",
    "cv_type = StratifiedKFold(n_splits=10, shuffle=True, random_state=0)"
   ]
  },
  {
   "cell_type": "code",
   "execution_count": 20,
   "metadata": {},
   "outputs": [
    {
     "data": {
      "text/plain": [
       "0.7533333333333333"
      ]
     },
     "execution_count": 20,
     "metadata": {},
     "output_type": "execute_result"
    }
   ],
   "source": [
    "logis_pipe = make_pipeline(preprocess_with_ss, LogisticRegression())\n",
    "param_grid = {'logisticregression__C': range(1, 25)}\n",
    "lr_grid = GridSearchCV(logis_pipe, param_grid, cv=cv_type, n_jobs=-1, return_train_score=True)\n",
    "lr_grid.fit(X_train_val, y_train_val)\n",
    "lr_grid.best_score_"
   ]
  },
  {
   "cell_type": "code",
   "execution_count": 21,
   "metadata": {},
   "outputs": [
    {
     "data": {
      "text/plain": [
       "0.7586666666666667"
      ]
     },
     "execution_count": 21,
     "metadata": {},
     "output_type": "execute_result"
    }
   ],
   "source": [
    "svm_pipe = make_pipeline(preprocess_with_ss, LinearSVC())\n",
    "param_grid = {'linearsvc__C': range(1, 25)}\n",
    "svc_grid = GridSearchCV(svm_pipe, param_grid, cv=cv_type, n_jobs=-1, return_train_score=True)\n",
    "svc_grid.fit(X_train_val, y_train_val)\n",
    "svc_grid.best_score_"
   ]
  },
  {
   "cell_type": "code",
   "execution_count": 22,
   "metadata": {},
   "outputs": [
    {
     "data": {
      "text/plain": [
       "0.7373333333333334"
      ]
     },
     "execution_count": 22,
     "metadata": {},
     "output_type": "execute_result"
    }
   ],
   "source": [
    "nn_pipe = make_pipeline(preprocess_with_ss, KNeighborsClassifier())\n",
    "param_grid = {'kneighborsclassifier__n_neighbors': range(1, 25)}\n",
    "nn_grid = GridSearchCV(nn_pipe, param_grid, cv=cv_type, n_jobs=-1, return_train_score=True)\n",
    "nn_grid.fit(X_train_val, y_train_val)\n",
    "nn_grid.best_score_"
   ]
  },
  {
   "cell_type": "code",
   "execution_count": 23,
   "metadata": {},
   "outputs": [
    {
     "name": "stdout",
     "output_type": "stream",
     "text": [
      "{'logisticregression__C': 5}\n",
      "{'linearsvc__C': 7}\n",
      "{'kneighborsclassifier__n_neighbors': 12}\n"
     ]
    }
   ],
   "source": [
    "print(lr_grid.best_params_)\n",
    "print(svc_grid.best_params_)\n",
    "print(nn_grid.best_params_)"
   ]
  },
  {
   "cell_type": "markdown",
   "metadata": {},
   "source": [
    "Do the results improve?"
   ]
  },
  {
   "cell_type": "markdown",
   "metadata": {},
   "source": [
    "By applying GridSearch, a slight improvement is seen by all three models as in comparison to 1.4, all three models show slightly higher cross validation accuracy scores when their parameters are tuned."
   ]
  },
  {
   "cell_type": "markdown",
   "metadata": {},
   "source": [
    "Evaluate the best model"
   ]
  },
  {
   "cell_type": "code",
   "execution_count": 24,
   "metadata": {},
   "outputs": [
    {
     "data": {
      "text/plain": [
       "0.76"
      ]
     },
     "execution_count": 24,
     "metadata": {},
     "output_type": "execute_result"
    }
   ],
   "source": [
    "svc_grid.fit(X_train_val, y_train_val)\n",
    "svc_grid.score(X_test, y_test)"
   ]
  },
  {
   "cell_type": "markdown",
   "metadata": {},
   "source": [
    "Visualize performance as a function of the parameters"
   ]
  },
  {
   "cell_type": "code",
   "execution_count": 25,
   "metadata": {},
   "outputs": [],
   "source": [
    "lr_df = pd.DataFrame(lr_grid.cv_results_)\n",
    "lr_mean_test_score = lr_df['mean_test_score']\n",
    "lr_mean_train_score = lr_df['mean_train_score']\n",
    "lr_c_param = lr_df['param_logisticregression__C']\n",
    "\n",
    "svm_df = pd.DataFrame(svc_grid.cv_results_)\n",
    "svm_mean_test_score = svm_df['mean_test_score']\n",
    "svm_mean_train_score = svm_df['mean_train_score']\n",
    "svm_c_param = svm_df['param_linearsvc__C']\n",
    "\n",
    "nn_df = pd.DataFrame(nn_grid.cv_results_)\n",
    "nn_mean_test_score = nn_df['mean_test_score']\n",
    "nn_mean_train_score = nn_df['mean_train_score']\n",
    "nn_n_param = nn_df['param_kneighborsclassifier__n_neighbors']"
   ]
  },
  {
   "cell_type": "code",
   "execution_count": 26,
   "metadata": {},
   "outputs": [
    {
     "data": {
      "image/png": "[encoded data removed]",
      "text/plain": [
       "<Figure size 720x1440 with 3 Axes>"
      ]
     },
     "metadata": {
      "needs_background": "light"
     },
     "output_type": "display_data"
    }
   ],
   "source": [
    "fig, ax = plt.subplots(3, 1, figsize=(10, 20))\n",
    "ax1, ax2, ax3 = ax.ravel()\n",
    "\n",
    "ax1.plot(lr_c_param, lr_mean_test_score)\n",
    "ax1.plot(lr_c_param, lr_mean_train_score)\n",
    "ax1.legend(['mean_test_score', 'mean_train_score'], fontsize=12)\n",
    "ax1.set_xlabel('C parameter', fontsize=15)\n",
    "ax1.set_title('Logistic Regression Parameter Tuning', fontsize=15)\n",
    "\n",
    "ax2.plot(svm_c_param, svm_mean_test_score)\n",
    "ax2.plot(svm_c_param, svm_mean_train_score)\n",
    "ax2.legend(['mean_test_score', 'mean_train_score'], fontsize=12)\n",
    "ax2.set_xlabel('C parameter', fontsize=15)\n",
    "ax2.set_title('Linear SVM Parameter Tuning', fontsize=15)\n",
    "\n",
    "ax3.plot(nn_n_param, nn_mean_test_score)\n",
    "ax3.plot(nn_n_param, nn_mean_train_score)\n",
    "ax3.legend(['mean_test_score', 'mean_train_score'],fontsize=12)\n",
    "ax3.set_xlabel('Number of Nearest Neighbors', fontsize=15)\n",
    "ax3.set_title('KNearest Neighbors Parameter Tuning', fontsize=15)\n",
    "\n",
    "plt.show()"
   ]
  },
  {
   "cell_type": "markdown",
   "metadata": {},
   "source": [
    "## 1.6 \n",
    "Change the cross-validation strategy from ‘stratified k-fold’ to ‘kfold’ with shuffling. Do the\n",
    "parameters that are found change? Do they change if you change the random seed of the\n",
    "shuffling? Or if you change the random state of the split into training and test data?"
   ]
  },
  {
   "cell_type": "code",
   "execution_count": 27,
   "metadata": {},
   "outputs": [],
   "source": [
    "cv_type_kfold = KFold(n_splits=10, shuffle=True, random_state=0)\n",
    "preprocess_with_ss = make_column_transformer((preprocessing.OneHotEncoder(), categorical_total), \n",
    "                                             (preprocessing.StandardScaler(), continuous))"
   ]
  },
  {
   "cell_type": "code",
   "execution_count": 28,
   "metadata": {},
   "outputs": [
    {
     "data": {
      "text/plain": [
       "0.748"
      ]
     },
     "execution_count": 28,
     "metadata": {},
     "output_type": "execute_result"
    }
   ],
   "source": [
    "logis_pipe = make_pipeline(preprocess_with_ss, LogisticRegression())\n",
    "param_grid = {'logisticregression__C': range(1, 25)}\n",
    "lr_grid = GridSearchCV(logis_pipe, param_grid, cv=cv_type_kfold, n_jobs=-1, return_train_score=True)\n",
    "lr_grid.fit(X_train_val, y_train_val)\n",
    "lr_grid.best_score_"
   ]
  },
  {
   "cell_type": "code",
   "execution_count": 29,
   "metadata": {},
   "outputs": [
    {
     "data": {
      "text/plain": [
       "0.752"
      ]
     },
     "execution_count": 29,
     "metadata": {},
     "output_type": "execute_result"
    }
   ],
   "source": [
    "svm_pipe = make_pipeline(preprocess_with_ss, LinearSVC())\n",
    "param_grid = {'linearsvc__C': range(1, 25)}\n",
    "svc_grid = GridSearchCV(svm_pipe, param_grid, cv=cv_type_kfold, n_jobs=-1, return_train_score=True)\n",
    "svc_grid.fit(X_train_val, y_train_val)\n",
    "svc_grid.best_score_"
   ]
  },
  {
   "cell_type": "code",
   "execution_count": 30,
   "metadata": {},
   "outputs": [
    {
     "data": {
      "text/plain": [
       "0.7333333333333334"
      ]
     },
     "execution_count": 30,
     "metadata": {},
     "output_type": "execute_result"
    }
   ],
   "source": [
    "nn_pipe = make_pipeline(preprocess_with_ss, KNeighborsClassifier())\n",
    "param_grid = {'kneighborsclassifier__n_neighbors': range(1, 25)}\n",
    "nn_grid = GridSearchCV(nn_pipe, param_grid, cv=cv_type_kfold, n_jobs=-1, return_train_score=True)\n",
    "nn_grid.fit(X_train_val, y_train_val)\n",
    "nn_grid.best_score_"
   ]
  },
  {
   "cell_type": "code",
   "execution_count": 31,
   "metadata": {},
   "outputs": [
    {
     "name": "stdout",
     "output_type": "stream",
     "text": [
      "{'logisticregression__C': 2}\n",
      "{'linearsvc__C': 13}\n",
      "{'kneighborsclassifier__n_neighbors': 16}\n"
     ]
    }
   ],
   "source": [
    "print(lr_grid.best_params_)\n",
    "print(svc_grid.best_params_)\n",
    "print(nn_grid.best_params_)"
   ]
  },
  {
   "cell_type": "markdown",
   "metadata": {},
   "source": [
    "Change the random state of the shuffling"
   ]
  },
  {
   "cell_type": "code",
   "execution_count": 32,
   "metadata": {},
   "outputs": [],
   "source": [
    "cv_type_kfold = KFold(n_splits=10, shuffle=True, random_state=5)\n",
    "preprocess_with_ss = make_column_transformer((preprocessing.OneHotEncoder(), categorical_total), \n",
    "                                             (preprocessing.StandardScaler(), continuous))"
   ]
  },
  {
   "cell_type": "code",
   "execution_count": 33,
   "metadata": {},
   "outputs": [
    {
     "data": {
      "text/plain": [
       "0.7546666666666668"
      ]
     },
     "execution_count": 33,
     "metadata": {},
     "output_type": "execute_result"
    }
   ],
   "source": [
    "logis_pipe = make_pipeline(preprocess_with_ss, LogisticRegression())\n",
    "param_grid = {'logisticregression__C': range(1, 25)}\n",
    "lr_grid = GridSearchCV(logis_pipe, param_grid, cv=cv_type_kfold, n_jobs=-1, return_train_score=True)\n",
    "lr_grid.fit(X_train_val, y_train_val)\n",
    "lr_grid.best_score_"
   ]
  },
  {
   "cell_type": "code",
   "execution_count": 43,
   "metadata": {},
   "outputs": [
    {
     "data": {
      "text/plain": [
       "0.7626666666666667"
      ]
     },
     "execution_count": 43,
     "metadata": {},
     "output_type": "execute_result"
    }
   ],
   "source": [
    "svm_pipe = make_pipeline(preprocess_with_ss, LinearSVC())\n",
    "param_grid = {'linearsvc__C': range(1, 25)}\n",
    "svc_grid = GridSearchCV(svm_pipe, param_grid, cv=cv_type_kfold, n_jobs=-1, return_train_score=True)\n",
    "svc_grid.fit(X_train_val, y_train_val)\n",
    "svc_grid.best_score_"
   ]
  },
  {
   "cell_type": "code",
   "execution_count": 35,
   "metadata": {},
   "outputs": [
    {
     "data": {
      "text/plain": [
       "0.736"
      ]
     },
     "execution_count": 35,
     "metadata": {},
     "output_type": "execute_result"
    }
   ],
   "source": [
    "nn_pipe = make_pipeline(preprocess_with_ss, KNeighborsClassifier())\n",
    "param_grid = {'kneighborsclassifier__n_neighbors': range(1, 25)}\n",
    "nn_grid = GridSearchCV(nn_pipe, param_grid, cv=cv_type_kfold, n_jobs=-1, return_train_score=True)\n",
    "nn_grid.fit(X_train_val, y_train_val)\n",
    "nn_grid.best_score_"
   ]
  },
  {
   "cell_type": "code",
   "execution_count": 44,
   "metadata": {},
   "outputs": [
    {
     "name": "stdout",
     "output_type": "stream",
     "text": [
      "{'logisticregression__C': 1}\n",
      "{'linearsvc__C': 12}\n",
      "{'kneighborsclassifier__n_neighbors': 3}\n"
     ]
    }
   ],
   "source": [
    "print(lr_grid.best_params_)\n",
    "print(svc_grid.best_params_)\n",
    "print(nn_grid.best_params_)"
   ]
  },
  {
   "cell_type": "markdown",
   "metadata": {},
   "source": [
    "Changing random state of the split for training and testing"
   ]
  },
  {
   "cell_type": "code",
   "execution_count": 37,
   "metadata": {},
   "outputs": [],
   "source": [
    "X_train_val, X_test, y_train_val, y_test = train_test_split(df.data, encoded_target, stratify=encoded_target, shuffle=True, random_state=5)"
   ]
  },
  {
   "cell_type": "code",
   "execution_count": 38,
   "metadata": {},
   "outputs": [],
   "source": [
    "cv_type_kfold = KFold(n_splits=10, shuffle=True, random_state=5)\n",
    "preprocess_with_ss = make_column_transformer((preprocessing.OneHotEncoder(), categorical_total), \n",
    "                                             (preprocessing.StandardScaler(), continuous))"
   ]
  },
  {
   "cell_type": "code",
   "execution_count": 39,
   "metadata": {},
   "outputs": [
    {
     "data": {
      "text/plain": [
       "0.7586666666666668"
      ]
     },
     "execution_count": 39,
     "metadata": {},
     "output_type": "execute_result"
    }
   ],
   "source": [
    "logis_pipe = make_pipeline(preprocess_with_ss, LogisticRegression())\n",
    "param_grid = {'logisticregression__C': range(1, 25)}\n",
    "lr_grid = GridSearchCV(logis_pipe, param_grid, cv=cv_type_kfold, n_jobs=-1, return_train_score=True)\n",
    "lr_grid.fit(X_train_val, y_train_val)\n",
    "lr_grid.best_score_"
   ]
  },
  {
   "cell_type": "code",
   "execution_count": 40,
   "metadata": {},
   "outputs": [
    {
     "data": {
      "text/plain": [
       "0.7546666666666667"
      ]
     },
     "execution_count": 40,
     "metadata": {},
     "output_type": "execute_result"
    }
   ],
   "source": [
    "svm_pipe = make_pipeline(preprocess_with_ss, LinearSVC())\n",
    "param_grid = {'linearsvc__C': range(1, 25)}\n",
    "svc_grid = GridSearchCV(svm_pipe, param_grid, cv=cv_type_kfold, n_jobs=-1, return_train_score=True)\n",
    "svc_grid.fit(X_train_val, y_train_val)\n",
    "svc_grid.best_score_"
   ]
  },
  {
   "cell_type": "code",
   "execution_count": 41,
   "metadata": {},
   "outputs": [
    {
     "data": {
      "text/plain": [
       "0.7466666666666667"
      ]
     },
     "execution_count": 41,
     "metadata": {},
     "output_type": "execute_result"
    }
   ],
   "source": [
    "nn_pipe = make_pipeline(preprocess_with_ss, KNeighborsClassifier())\n",
    "param_grid = {'kneighborsclassifier__n_neighbors': range(1, 25)}\n",
    "nn_grid = GridSearchCV(nn_pipe, param_grid, cv=cv_type_kfold, n_jobs=-1, return_train_score=True)\n",
    "nn_grid.fit(X_train_val, y_train_val)\n",
    "nn_grid.best_score_"
   ]
  },
  {
   "cell_type": "code",
   "execution_count": 42,
   "metadata": {},
   "outputs": [
    {
     "name": "stdout",
     "output_type": "stream",
     "text": [
      "{'logisticregression__C': 1}\n",
      "{'linearsvc__C': 6}\n",
      "{'kneighborsclassifier__n_neighbors': 3}\n"
     ]
    }
   ],
   "source": [
    "print(lr_grid.best_params_)\n",
    "print(svc_grid.best_params_)\n",
    "print(nn_grid.best_params_)"
   ]
  },
  {
   "cell_type": "markdown",
   "metadata": {},
   "source": [
    "By changing the cross-validation strategy from Stratified KFold to KFold, the C parameter changes for both logistic regression and linear SVM as does the number of neighbors for KNN. The parameters once again change when random seed of the shuffling is changed and when the random state of the train/test split is changed, the C parameter for logistic regression changes however, the other two remain the same."
   ]
  },
  {
   "cell_type": "markdown",
   "metadata": {},
   "source": [
    "## 1.7 \n",
    "Visualize the 20 most important coefficients for LogisticRegression and Linear Support\n",
    "Vector Machines using hyper-parameters that performed well in the grid-search."
   ]
  },
  {
   "cell_type": "code",
   "execution_count": 48,
   "metadata": {},
   "outputs": [],
   "source": [
    "# Best performance when C = 1 for logistic regression\n",
    "best_lr_pipe = make_pipeline(preprocess_with_ss, LogisticRegression(C=1))\n",
    "best_lr_pipe.fit(X_train_val, y_train_val)\n",
    "# Best performance when C = 12 for svc\n",
    "best_svc_pipe = make_pipeline(preprocess_with_ss, LinearSVC(C=12))\n",
    "best_svc_pipe.fit(X_train_val, y_train_val)\n",
    "\n",
    "# Get the coefficients\n",
    "best_lr_coeff = best_lr_pipe['logisticregression'].coef_[0]\n",
    "best_svc_coeff = best_svc_pipe['linearsvc'].coef_[0]"
   ]
  },
  {
   "cell_type": "code",
   "execution_count": 49,
   "metadata": {},
   "outputs": [],
   "source": [
    "# Get the top 20 coefficients with the greatest absolute value\n",
    "svc_coeff_abs = [abs(x) for x in best_svc_coeff]\n",
    "svc_coeff_abs.sort(reverse=True)\n",
    "top_20_svc = svc_coeff_abs[0:21]\n",
    "\n",
    "lr_coeff_abs = [abs(x) for x in best_lr_coeff]\n",
    "lr_coeff_abs.sort(reverse=True)\n",
    "top_20_lr = lr_coeff_abs[0:21]"
   ]
  },
  {
   "cell_type": "code",
   "execution_count": 50,
   "metadata": {},
   "outputs": [
    {
     "data": {
      "image/png": "[encoded data removed]",
      "text/plain": [
       "<Figure size 1440x720 with 2 Axes>"
      ]
     },
     "metadata": {
      "needs_background": "light"
     },
     "output_type": "display_data"
    }
   ],
   "source": [
    "# Visualize the performance\n",
    "fig, ax = plt.subplots(1,2, figsize=(20,10))\n",
    "ax1, ax2 = ax.ravel()\n",
    "ax1.plot(range(0,21), top_20_svc, 'ro', markersize='10')\n",
    "ax1.set_xlabel('Coefficient Position/Ranking',fontsize=15)\n",
    "ax1.set_ylabel('Coefficient Magnitude',fontsize=15)\n",
    "ax1.set_title('SVC 20 Most Important Coefficients',fontsize=15)\n",
    "ax2.plot(range(0,21), top_20_lr, 'bo', markersize='10')\n",
    "ax2.set_xlabel('Coefficient Position/Ranking', fontsize=15)\n",
    "ax2.set_ylabel('Coefficient Magnitude', fontsize=15)\n",
    "ax2.set_title('Logistic Regression 20 Most Important Coefficients', fontsize=15)\n",
    "plt.show()"
   ]
  },
  {
   "cell_type": "code",
   "execution_count": null,
   "metadata": {},
   "outputs": [],
   "source": []
  }
 ],
 "metadata": {
  "kernelspec": {
   "display_name": "applied_ml",
   "language": "python",
   "name": "applied_ml"
  },
  "language_info": {
   "codemirror_mode": {
    "name": "ipython",
    "version": 3
   },
   "file_extension": ".py",
   "mimetype": "text/x-python",
   "name": "python",
   "nbconvert_exporter": "python",
   "pygments_lexer": "ipython3",
   "version": "3.8.1"
  }
 },
 "nbformat": 4,
 "nbformat_minor": 2
}
