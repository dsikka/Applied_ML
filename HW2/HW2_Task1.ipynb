{
 "cells": [
  {
   "cell_type": "code",
   "execution_count": 1,
   "metadata": {},
   "outputs": [],
   "source": [
    "import numpy as np\n",
    "import pandas as pd\n",
    "import matplotlib.pyplot as plt\n",
    "import sklearn\n",
    "from sklearn.datasets import fetch_openml\n",
    "from sklearn.model_selection import train_test_split, GridSearchCV, KFold, StratifiedKFold\n",
    "from sklearn.linear_model import LogisticRegression\n",
    "from sklearn import preprocessing\n",
    "from sklearn.pipeline import make_pipeline\n",
    "from sklearn.compose import make_column_transformer\n",
    "from sklearn.model_selection import cross_val_score\n",
    "from sklearn.svm import LinearSVC\n",
    "from sklearn.neighbors import KNeighborsClassifier"
   ]
  },
  {
   "cell_type": "markdown",
   "metadata": {},
   "source": [
    "## Get the data"
   ]
  },
  {
   "cell_type": "code",
   "execution_count": 2,
   "metadata": {},
   "outputs": [
    {
     "data": {
      "text/html": [
       "<div>\n",
       "<style scoped>\n",
       "    .dataframe tbody tr th:only-of-type {\n",
       "        vertical-align: middle;\n",
       "    }\n",
       "\n",
       "    .dataframe tbody tr th {\n",
       "        vertical-align: top;\n",
       "    }\n",
       "\n",
       "    .dataframe thead th {\n",
       "        text-align: right;\n",
       "    }\n",
       "</style>\n",
       "<table border=\"1\" class=\"dataframe\">\n",
       "  <thead>\n",
       "    <tr style=\"text-align: right;\">\n",
       "      <th></th>\n",
       "      <th>checking_status</th>\n",
       "      <th>duration</th>\n",
       "      <th>credit_history</th>\n",
       "      <th>purpose</th>\n",
       "      <th>credit_amount</th>\n",
       "      <th>savings_status</th>\n",
       "      <th>employment</th>\n",
       "      <th>installment_commitment</th>\n",
       "      <th>personal_status</th>\n",
       "      <th>other_parties</th>\n",
       "      <th>residence_since</th>\n",
       "      <th>property_magnitude</th>\n",
       "      <th>age</th>\n",
       "      <th>other_payment_plans</th>\n",
       "      <th>housing</th>\n",
       "      <th>existing_credits</th>\n",
       "      <th>job</th>\n",
       "      <th>num_dependents</th>\n",
       "      <th>own_telephone</th>\n",
       "      <th>foreign_worker</th>\n",
       "    </tr>\n",
       "  </thead>\n",
       "  <tbody>\n",
       "    <tr>\n",
       "      <th>0</th>\n",
       "      <td>&lt;0</td>\n",
       "      <td>6.0</td>\n",
       "      <td>critical/other existing credit</td>\n",
       "      <td>radio/tv</td>\n",
       "      <td>1169.0</td>\n",
       "      <td>no known savings</td>\n",
       "      <td>&gt;=7</td>\n",
       "      <td>4.0</td>\n",
       "      <td>male single</td>\n",
       "      <td>none</td>\n",
       "      <td>4.0</td>\n",
       "      <td>real estate</td>\n",
       "      <td>67.0</td>\n",
       "      <td>none</td>\n",
       "      <td>own</td>\n",
       "      <td>2.0</td>\n",
       "      <td>skilled</td>\n",
       "      <td>1.0</td>\n",
       "      <td>yes</td>\n",
       "      <td>yes</td>\n",
       "    </tr>\n",
       "    <tr>\n",
       "      <th>1</th>\n",
       "      <td>0&lt;=X&lt;200</td>\n",
       "      <td>48.0</td>\n",
       "      <td>existing paid</td>\n",
       "      <td>radio/tv</td>\n",
       "      <td>5951.0</td>\n",
       "      <td>&lt;100</td>\n",
       "      <td>1&lt;=X&lt;4</td>\n",
       "      <td>2.0</td>\n",
       "      <td>female div/dep/mar</td>\n",
       "      <td>none</td>\n",
       "      <td>2.0</td>\n",
       "      <td>real estate</td>\n",
       "      <td>22.0</td>\n",
       "      <td>none</td>\n",
       "      <td>own</td>\n",
       "      <td>1.0</td>\n",
       "      <td>skilled</td>\n",
       "      <td>1.0</td>\n",
       "      <td>none</td>\n",
       "      <td>yes</td>\n",
       "    </tr>\n",
       "    <tr>\n",
       "      <th>2</th>\n",
       "      <td>no checking</td>\n",
       "      <td>12.0</td>\n",
       "      <td>critical/other existing credit</td>\n",
       "      <td>education</td>\n",
       "      <td>2096.0</td>\n",
       "      <td>&lt;100</td>\n",
       "      <td>4&lt;=X&lt;7</td>\n",
       "      <td>2.0</td>\n",
       "      <td>male single</td>\n",
       "      <td>none</td>\n",
       "      <td>3.0</td>\n",
       "      <td>real estate</td>\n",
       "      <td>49.0</td>\n",
       "      <td>none</td>\n",
       "      <td>own</td>\n",
       "      <td>1.0</td>\n",
       "      <td>unskilled resident</td>\n",
       "      <td>2.0</td>\n",
       "      <td>none</td>\n",
       "      <td>yes</td>\n",
       "    </tr>\n",
       "    <tr>\n",
       "      <th>3</th>\n",
       "      <td>&lt;0</td>\n",
       "      <td>42.0</td>\n",
       "      <td>existing paid</td>\n",
       "      <td>furniture/equipment</td>\n",
       "      <td>7882.0</td>\n",
       "      <td>&lt;100</td>\n",
       "      <td>4&lt;=X&lt;7</td>\n",
       "      <td>2.0</td>\n",
       "      <td>male single</td>\n",
       "      <td>guarantor</td>\n",
       "      <td>4.0</td>\n",
       "      <td>life insurance</td>\n",
       "      <td>45.0</td>\n",
       "      <td>none</td>\n",
       "      <td>for free</td>\n",
       "      <td>1.0</td>\n",
       "      <td>skilled</td>\n",
       "      <td>2.0</td>\n",
       "      <td>none</td>\n",
       "      <td>yes</td>\n",
       "    </tr>\n",
       "    <tr>\n",
       "      <th>4</th>\n",
       "      <td>&lt;0</td>\n",
       "      <td>24.0</td>\n",
       "      <td>delayed previously</td>\n",
       "      <td>new car</td>\n",
       "      <td>4870.0</td>\n",
       "      <td>&lt;100</td>\n",
       "      <td>1&lt;=X&lt;4</td>\n",
       "      <td>3.0</td>\n",
       "      <td>male single</td>\n",
       "      <td>none</td>\n",
       "      <td>4.0</td>\n",
       "      <td>no known property</td>\n",
       "      <td>53.0</td>\n",
       "      <td>none</td>\n",
       "      <td>for free</td>\n",
       "      <td>2.0</td>\n",
       "      <td>skilled</td>\n",
       "      <td>2.0</td>\n",
       "      <td>none</td>\n",
       "      <td>yes</td>\n",
       "    </tr>\n",
       "  </tbody>\n",
       "</table>\n",
       "</div>"
      ],
      "text/plain": [
       "  checking_status  duration                  credit_history  \\\n",
       "0              <0       6.0  critical/other existing credit   \n",
       "1        0<=X<200      48.0                   existing paid   \n",
       "2     no checking      12.0  critical/other existing credit   \n",
       "3              <0      42.0                   existing paid   \n",
       "4              <0      24.0              delayed previously   \n",
       "\n",
       "               purpose  credit_amount    savings_status employment  \\\n",
       "0             radio/tv         1169.0  no known savings        >=7   \n",
       "1             radio/tv         5951.0              <100     1<=X<4   \n",
       "2            education         2096.0              <100     4<=X<7   \n",
       "3  furniture/equipment         7882.0              <100     4<=X<7   \n",
       "4              new car         4870.0              <100     1<=X<4   \n",
       "\n",
       "   installment_commitment     personal_status other_parties  residence_since  \\\n",
       "0                     4.0         male single          none              4.0   \n",
       "1                     2.0  female div/dep/mar          none              2.0   \n",
       "2                     2.0         male single          none              3.0   \n",
       "3                     2.0         male single     guarantor              4.0   \n",
       "4                     3.0         male single          none              4.0   \n",
       "\n",
       "  property_magnitude   age other_payment_plans   housing  existing_credits  \\\n",
       "0        real estate  67.0                none       own               2.0   \n",
       "1        real estate  22.0                none       own               1.0   \n",
       "2        real estate  49.0                none       own               1.0   \n",
       "3     life insurance  45.0                none  for free               1.0   \n",
       "4  no known property  53.0                none  for free               2.0   \n",
       "\n",
       "                  job  num_dependents own_telephone foreign_worker  \n",
       "0             skilled             1.0           yes            yes  \n",
       "1             skilled             1.0          none            yes  \n",
       "2  unskilled resident             2.0          none            yes  \n",
       "3             skilled             2.0          none            yes  \n",
       "4             skilled             2.0          none            yes  "
      ]
     },
     "execution_count": 2,
     "metadata": {},
     "output_type": "execute_result"
    }
   ],
   "source": [
    "df = fetch_openml(\"credit-g\", as_frame=True)\n",
    "target = df.target\n",
    "df.data.head()"
   ]
  },
  {
   "cell_type": "markdown",
   "metadata": {},
   "source": [
    "## 1.1 \n",
    "Determine which features are continuous and which are categorical."
   ]
  },
  {
   "cell_type": "markdown",
   "metadata": {},
   "source": [
    "Based on the description of the data provided, foreign_worker, own_telephone, job, housing, other_payment_plans, property_magnitude, other_parites, personal_status, employment, savings_status, purpose, credit_history, and checking_status, are all categorical as these features consist of a finite number of distinct groups. In contrast, duration, credit_amount, age, installment_commitment, residence_since, existing_credits, and num_dependents are all continuous."
   ]
  },
  {
   "cell_type": "code",
   "execution_count": 3,
   "metadata": {},
   "outputs": [
    {
     "name": "stdout",
     "output_type": "stream",
     "text": [
      "Categorical:  checking_status\n",
      "Continuous :  duration\n",
      "Categorical:  credit_history\n",
      "Categorical:  purpose\n",
      "Continuous :  credit_amount\n",
      "Categorical:  savings_status\n",
      "Categorical:  employment\n",
      "Continuous :  installment_commitment\n",
      "Categorical:  personal_status\n",
      "Categorical:  other_parties\n",
      "Continuous :  residence_since\n",
      "Categorical:  property_magnitude\n",
      "Continuous :  age\n",
      "Categorical:  other_payment_plans\n",
      "Categorical:  housing\n",
      "Continuous :  existing_credits\n",
      "Categorical:  job\n",
      "Continuous :  num_dependents\n",
      "Categorical:  own_telephone\n",
      "Categorical:  foreign_worker\n"
     ]
    }
   ],
   "source": [
    "# Categorical and Continuous Data\n",
    "categorical = []\n",
    "continuous = []\n",
    "for col in df.data.columns:\n",
    "    if df.data[col].dtypes == np.float64:\n",
    "        print('Continuous : ', col)\n",
    "        continuous.append(col)\n",
    "    else:\n",
    "        print('Categorical: ', col)\n",
    "        categorical.append(col)"
   ]
  },
  {
   "cell_type": "markdown",
   "metadata": {},
   "source": [
    "## 1.2 \n",
    "Visualize the univariate distribution of each continuous feature, and the distribution of the target"
   ]
  },
  {
   "cell_type": "code",
   "execution_count": 164,
   "metadata": {},
   "outputs": [
    {
     "data": {
      "image/png": "[encoded data removed]",
      "text/plain": [
       "<Figure size 1584x1584 with 7 Axes>"
      ]
     },
     "metadata": {
      "needs_background": "light"
     },
     "output_type": "display_data"
    }
   ],
   "source": [
    "# Distribution of continuous variables\n",
    "fig, ax = plt.subplots(4, 2, figsize=(22,22))\n",
    "ax1, ax2, ax3, ax4, ax5, ax6, ax7, ax8 = ax.ravel()\n",
    "ax1.hist(df.data['age'], bins='auto')\n",
    "ax1.set_ylabel('Count', fontsize=15)\n",
    "ax1.set_xlabel('Age (years)', fontsize=15)\n",
    "\n",
    "ax2.hist(df.data['duration'], bins='auto')\n",
    "ax2.set_ylabel('Count', fontsize=15)\n",
    "ax2.set_xlabel('Duration (months)', fontsize=15)\n",
    "\n",
    "ax3.hist(df.data['credit_amount'], bins='auto')\n",
    "ax3.set_ylabel('Count', fontsize=15)\n",
    "ax3.set_xlabel('Credit Amount', fontsize=15)\n",
    "\n",
    "ax4.hist(df.data['num_dependents'], bins='auto')\n",
    "ax4.set_ylabel('Count', fontsize=15)\n",
    "ax4.set_xlabel('Number of Dependents', fontsize=15)\n",
    "\n",
    "ax5.hist(df.data['existing_credits'], bins='auto')\n",
    "ax5.set_ylabel('Count', fontsize=15)\n",
    "ax5.set_xlabel('Existing Credits', fontsize=15)\n",
    "\n",
    "ax6.hist(df.data['installment_commitment'], bins='auto')\n",
    "ax6.set_ylabel('Count', fontsize=15)\n",
    "ax6.set_xlabel('Installment Commitment (%)', fontsize=15)\n",
    "\n",
    "ax7.hist(df.data['residence_since'], bins='auto')\n",
    "ax7.set_ylabel('Count', fontsize=15)\n",
    "ax7.set_xlabel('Length of Residence (years)', fontsize=15)\n",
    "\n",
    "fig.delaxes(ax8)\n",
    "plt.show()"
   ]
  },
  {
   "cell_type": "code",
   "execution_count": 165,
   "metadata": {},
   "outputs": [
    {
     "data": {
      "image/png": "[encoded data removed]",
      "text/plain": [
       "<Figure size 504x504 with 1 Axes>"
      ]
     },
     "metadata": {
      "needs_background": "light"
     },
     "output_type": "display_data"
    }
   ],
   "source": [
    "# Distribution of the target\n",
    "target_names, target_nums = np.unique(target, return_counts=True)\n",
    "fig, ax = plt.subplots(1,1, figsize=(7,7))\n",
    "ax.bar(target_names, target_nums)\n",
    "ax.set_xlabel('Targets', fontsize=12)\n",
    "ax.set_ylabel('Target Count', fontsize=12)\n",
    "ax.set_title('Target Distribution', fontsize=15)\n",
    "plt.show()"
   ]
  },
  {
   "cell_type": "markdown",
   "metadata": {},
   "source": [
    "##  1.3 \n",
    "Split data into training and test set. Do not use the test set until a final evaluation in 1.5. Preprocess the data (such as treatment of categorical variables) without using a pipeline and evaluate an initial LogisticRegression model with an training/validation split."
   ]
  },
  {
   "cell_type": "code",
   "execution_count": 4,
   "metadata": {},
   "outputs": [],
   "source": [
    "# Preprocessing: label encode target class\n",
    "label_encoder = preprocessing.LabelEncoder()\n",
    "encoded_target = label_encoder.fit_transform(target)"
   ]
  },
  {
   "cell_type": "markdown",
   "metadata": {},
   "source": [
    "One-hot encode categorical variables"
   ]
  },
  {
   "cell_type": "code",
   "execution_count": 11,
   "metadata": {},
   "outputs": [],
   "source": [
    "X_train_val, X_test, y_train_val, y_test = train_test_split(df.data, encoded_target, stratify=encoded_target, shuffle=True, random_state=0)\n",
    "X_train, X_val, y_train, y_val = train_test_split(X_train_val, y_train_val, stratify=y_train_val, shuffle=True, random_state=0)"
   ]
  },
  {
   "cell_type": "code",
   "execution_count": 12,
   "metadata": {},
   "outputs": [],
   "source": [
    "X_train_ohe = pd.get_dummies(X_train, columns=categorical)\n",
    "X_val_ohe = pd.get_dummies(X_val, columns=categorical) "
   ]
  },
  {
   "cell_type": "markdown",
   "metadata": {},
   "source": [
    "Fit model on training data and score on validation"
   ]
  },
  {
   "cell_type": "code",
   "execution_count": 14,
   "metadata": {},
   "outputs": [
    {
     "data": {
      "text/plain": [
       "0.7606382978723404"
      ]
     },
     "execution_count": 14,
     "metadata": {},
     "output_type": "execute_result"
    }
   ],
   "source": [
    "logis = LogisticRegression(max_iter=500).fit(X_train_ohe, y_train)\n",
    "logis.score(X_val_ohe, y_val)"
   ]
  },
  {
   "cell_type": "markdown",
   "metadata": {},
   "source": [
    "## 1.4 \n",
    "Use ColumnTransformer and pipeline to encode categorical variables (your choice of\n",
    "OneHotEncoder or another one from the categorical_encoder package, or both). Evaluate\n",
    "Logistic Regression, linear support vector machines and nearest neighbors using\n",
    "cross-validation. How different are the results? How does scaling the continuous features with\n",
    "StandardScaler influence the results?"
   ]
  },
  {
   "cell_type": "code",
   "execution_count": 52,
   "metadata": {},
   "outputs": [],
   "source": [
    "to_encode = df.data.dtypes != np.float64\n",
    "preprocess = make_column_transformer((preprocessing.OneHotEncoder(), to_encode))\n",
    "cv_original = StratifiedKFold(n_splits=10, shuffle=True, random_state=0)"
   ]
  },
  {
   "cell_type": "code",
   "execution_count": 53,
   "metadata": {},
   "outputs": [
    {
     "data": {
      "text/plain": [
       "0.7453333333333333"
      ]
     },
     "execution_count": 53,
     "metadata": {},
     "output_type": "execute_result"
    }
   ],
   "source": [
    "logis_pipe = make_pipeline(preprocess, LogisticRegression(max_iter=500))\n",
    "logis_scores = cross_val_score(logis_pipe, X_train_val, y_train_val, cv=cv_original)\n",
    "np.mean(logis_scores)"
   ]
  },
  {
   "cell_type": "code",
   "execution_count": 54,
   "metadata": {},
   "outputs": [
    {
     "data": {
      "text/plain": [
       "0.744"
      ]
     },
     "execution_count": 54,
     "metadata": {},
     "output_type": "execute_result"
    }
   ],
   "source": [
    "svm_pipe = make_pipeline(preprocess, LinearSVC())\n",
    "svm_scores = cross_val_score(svm_pipe, X_train_val, y_train_val, cv=cv_original)\n",
    "np.mean(svm_scores)"
   ]
  },
  {
   "cell_type": "code",
   "execution_count": 55,
   "metadata": {},
   "outputs": [
    {
     "data": {
      "text/plain": [
       "0.7146666666666667"
      ]
     },
     "execution_count": 55,
     "metadata": {},
     "output_type": "execute_result"
    }
   ],
   "source": [
    "nn_pipe = make_pipeline(preprocess, KNeighborsClassifier())\n",
    "nn_scores = cross_val_score(nn_pipe, X_train_val, y_train_val, cv=cv_original)\n",
    "np.mean(nn_scores)"
   ]
  },
  {
   "cell_type": "markdown",
   "metadata": {},
   "source": [
    "Add in standard scalar"
   ]
  },
  {
   "cell_type": "code",
   "execution_count": 24,
   "metadata": {},
   "outputs": [],
   "source": [
    "preprocess_with_ss = make_column_transformer((preprocessing.StandardScaler(), ~to_encode),\n",
    "                                     (preprocessing.OneHotEncoder(), to_encode))"
   ]
  },
  {
   "cell_type": "code",
   "execution_count": 25,
   "metadata": {},
   "outputs": [
    {
     "data": {
      "text/plain": [
       "0.748"
      ]
     },
     "execution_count": 25,
     "metadata": {},
     "output_type": "execute_result"
    }
   ],
   "source": [
    "logis_pipe = make_pipeline(preprocess_with_ss, LogisticRegression())\n",
    "logis_scores = cross_val_score(logis_pipe, X_train_val, y_train_val, cv=cv_original)\n",
    "np.mean(logis_scores)"
   ]
  },
  {
   "cell_type": "code",
   "execution_count": 26,
   "metadata": {},
   "outputs": [
    {
     "name": "stderr",
     "output_type": "stream",
     "text": [
      "/home/dipika/anaconda3/envs/applied_ml/lib/python3.8/site-packages/sklearn/svm/_base.py:946: ConvergenceWarning: Liblinear failed to converge, increase the number of iterations.\n",
      "  warnings.warn(\"Liblinear failed to converge, increase \"\n",
      "/home/dipika/anaconda3/envs/applied_ml/lib/python3.8/site-packages/sklearn/svm/_base.py:946: ConvergenceWarning: Liblinear failed to converge, increase the number of iterations.\n",
      "  warnings.warn(\"Liblinear failed to converge, increase \"\n",
      "/home/dipika/anaconda3/envs/applied_ml/lib/python3.8/site-packages/sklearn/svm/_base.py:946: ConvergenceWarning: Liblinear failed to converge, increase the number of iterations.\n",
      "  warnings.warn(\"Liblinear failed to converge, increase \"\n",
      "/home/dipika/anaconda3/envs/applied_ml/lib/python3.8/site-packages/sklearn/svm/_base.py:946: ConvergenceWarning: Liblinear failed to converge, increase the number of iterations.\n",
      "  warnings.warn(\"Liblinear failed to converge, increase \"\n",
      "/home/dipika/anaconda3/envs/applied_ml/lib/python3.8/site-packages/sklearn/svm/_base.py:946: ConvergenceWarning: Liblinear failed to converge, increase the number of iterations.\n",
      "  warnings.warn(\"Liblinear failed to converge, increase \"\n",
      "/home/dipika/anaconda3/envs/applied_ml/lib/python3.8/site-packages/sklearn/svm/_base.py:946: ConvergenceWarning: Liblinear failed to converge, increase the number of iterations.\n",
      "  warnings.warn(\"Liblinear failed to converge, increase \"\n"
     ]
    },
    {
     "data": {
      "text/plain": [
       "0.7546666666666667"
      ]
     },
     "execution_count": 26,
     "metadata": {},
     "output_type": "execute_result"
    }
   ],
   "source": [
    "svm_pipe = make_pipeline(preprocess_with_ss, LinearSVC())\n",
    "svm_scores = cross_val_score(svm_pipe, X_train_val, y_train_val, cv=cv_original)\n",
    "np.mean(svm_scores)"
   ]
  },
  {
   "cell_type": "code",
   "execution_count": 27,
   "metadata": {},
   "outputs": [
    {
     "data": {
      "text/plain": [
       "0.7346666666666667"
      ]
     },
     "execution_count": 27,
     "metadata": {},
     "output_type": "execute_result"
    }
   ],
   "source": [
    "nn_pipe = make_pipeline(preprocess_with_ss, KNeighborsClassifier())\n",
    "nn_scores = cross_val_score(nn_pipe, X_train_val, y_train_val, cv=cv_original)\n",
    "np.mean(nn_scores)"
   ]
  },
  {
   "cell_type": "markdown",
   "metadata": {},
   "source": [
    "# 1.5 \n",
    "Tune the parameters using GridSearchCV. Do the results improve? Evaluate only the best\n",
    "model on the test set. Visualize the performance as function of the parameters for all three models."
   ]
  },
  {
   "cell_type": "code",
   "execution_count": 56,
   "metadata": {},
   "outputs": [],
   "source": [
    "preprocess_with_ss = make_column_transformer((preprocessing.StandardScaler(), ~to_encode),\n",
    "                                     (preprocessing.OneHotEncoder(), to_encode))\n",
    "cv_type = StratifiedKFold(n_splits=10, shuffle=True, random_state=0)"
   ]
  },
  {
   "cell_type": "code",
   "execution_count": 57,
   "metadata": {},
   "outputs": [
    {
     "data": {
      "text/plain": [
       "0.7493333333333333"
      ]
     },
     "execution_count": 57,
     "metadata": {},
     "output_type": "execute_result"
    }
   ],
   "source": [
    "logis_pipe = make_pipeline(preprocess_with_ss, LogisticRegression())\n",
    "param_grid = {'logisticregression__C': range(1, 10)}\n",
    "lr_grid = GridSearchCV(logis_pipe, param_grid, cv=cv_type, n_jobs=-1, return_train_score=True)\n",
    "lr_grid.fit(X_train_val, y_train_val)\n",
    "lr_grid.best_score_"
   ]
  },
  {
   "cell_type": "code",
   "execution_count": 58,
   "metadata": {},
   "outputs": [
    {
     "name": "stderr",
     "output_type": "stream",
     "text": [
      "/home/dipika/anaconda3/envs/applied_ml/lib/python3.8/site-packages/sklearn/svm/_base.py:946: ConvergenceWarning: Liblinear failed to converge, increase the number of iterations.\n",
      "  warnings.warn(\"Liblinear failed to converge, increase \"\n"
     ]
    },
    {
     "data": {
      "text/plain": [
       "0.7493333333333333"
      ]
     },
     "execution_count": 58,
     "metadata": {},
     "output_type": "execute_result"
    }
   ],
   "source": [
    "svm_pipe = make_pipeline(preprocess_with_ss, LinearSVC(max_iter=2000))\n",
    "param_grid = {'linearsvc__C': range(1, 10)}\n",
    "svc_grid = GridSearchCV(svm_pipe, param_grid, cv=cv_type, n_jobs=-1, return_train_score=True)\n",
    "svc_grid.fit(X_train_val, y_train_val)\n",
    "svc_grid.best_score_"
   ]
  },
  {
   "cell_type": "code",
   "execution_count": 59,
   "metadata": {},
   "outputs": [
    {
     "data": {
      "text/plain": [
       "0.7413333333333334"
      ]
     },
     "execution_count": 59,
     "metadata": {},
     "output_type": "execute_result"
    }
   ],
   "source": [
    "nn_pipe = make_pipeline(preprocess_with_ss, KNeighborsClassifier())\n",
    "param_grid = {'kneighborsclassifier__n_neighbors': range(1, 20)}\n",
    "nn_grid = GridSearchCV(nn_pipe, param_grid, cv=cv_type, n_jobs=-1, return_train_score=True)\n",
    "nn_grid.fit(X_train_val, y_train_val)\n",
    "nn_grid.best_score_"
   ]
  },
  {
   "cell_type": "code",
   "execution_count": 60,
   "metadata": {},
   "outputs": [
    {
     "name": "stdout",
     "output_type": "stream",
     "text": [
      "{'logisticregression__C': 2}\n",
      "{'linearsvc__C': 13}\n",
      "{'kneighborsclassifier__n_neighbors': 3}\n"
     ]
    }
   ],
   "source": [
    "print(lr_grid.best_params_)\n",
    "print(svc_grid.best_params_)\n",
    "print(nn_grid.best_params_)"
   ]
  },
  {
   "cell_type": "markdown",
   "metadata": {},
   "source": [
    "Evaluate the best model"
   ]
  },
  {
   "cell_type": "code",
   "execution_count": 61,
   "metadata": {},
   "outputs": [
    {
     "data": {
      "text/plain": [
       "0.752"
      ]
     },
     "execution_count": 61,
     "metadata": {},
     "output_type": "execute_result"
    }
   ],
   "source": [
    "lr_grid.score(X_test, y_test)"
   ]
  },
  {
   "cell_type": "markdown",
   "metadata": {},
   "source": [
    "Visualize performance as a function of the parameters"
   ]
  },
  {
   "cell_type": "code",
   "execution_count": 62,
   "metadata": {},
   "outputs": [],
   "source": [
    "lr_df = pd.DataFrame(lr_grid.cv_results_)\n",
    "lr_mean_test_score = lr_df['mean_test_score']\n",
    "lr_mean_train_score = lr_df['mean_train_score']\n",
    "lr_c_param = lr_df['param_logisticregression__C']\n",
    "\n",
    "svm_df = pd.DataFrame(svc_grid.cv_results_)\n",
    "svm_mean_test_score = svm_df['mean_test_score']\n",
    "svm_mean_train_score = svm_df['mean_train_score']\n",
    "svm_c_param = svm_df['param_linearsvc__C']\n",
    "\n",
    "nn_df = pd.DataFrame(nn_grid.cv_results_)\n",
    "nn_mean_test_score = nn_df['mean_test_score']\n",
    "nn_mean_train_score = nn_df['mean_train_score']\n",
    "nn_n_param = nn_df['param_kneighborsclassifier__n_neighbors']"
   ]
  },
  {
   "cell_type": "code",
   "execution_count": 63,
   "metadata": {},
   "outputs": [
    {
     "data": {
      "image/png": "[encoded data removed]",
      "text/plain": [
       "<Figure size 720x1440 with 3 Axes>"
      ]
     },
     "metadata": {
      "needs_background": "light"
     },
     "output_type": "display_data"
    }
   ],
   "source": [
    "fig, ax = plt.subplots(3, 1, figsize=(10, 20))\n",
    "ax1, ax2, ax3 = ax.ravel()\n",
    "\n",
    "ax1.plot(lr_c_param, lr_mean_test_score)\n",
    "ax1.plot(lr_c_param, lr_mean_train_score)\n",
    "ax1.legend(['mean_test_score', 'mean_train_score'], fontsize=12)\n",
    "ax1.set_xlabel('C parameter', fontsize=15)\n",
    "ax1.set_title('Logistic Regression Parameter Tuning', fontsize=15)\n",
    "\n",
    "ax2.plot(svm_c_param, svm_mean_test_score)\n",
    "ax2.plot(svm_c_param, svm_mean_train_score)\n",
    "ax2.legend(['mean_test_score', 'mean_train_score'], fontsize=12)\n",
    "ax2.set_xlabel('C parameter', fontsize=15)\n",
    "ax2.set_title('Linear SVM Parameter Tuning', fontsize=15)\n",
    "\n",
    "ax3.plot(nn_n_param, nn_mean_test_score)\n",
    "ax3.plot(nn_n_param, nn_mean_train_score)\n",
    "ax3.legend(['mean_test_score', 'mean_train_score'],fontsize=12)\n",
    "ax3.set_xlabel('Number of Nearest Neighbors', fontsize=15)\n",
    "ax3.set_title('KNearest Neighbors Parameter Tuning', fontsize=15)\n",
    "\n",
    "plt.show()"
   ]
  },
  {
   "cell_type": "markdown",
   "metadata": {},
   "source": [
    "## 1.6 \n",
    "Change the cross-validation strategy from ‘stratified k-fold’ to ‘kfold’ with shuffling. Do the\n",
    "parameters that are found change? Do they change if you change the random seed of the\n",
    "shuffling? Or if you change the random state of the split into training and test data?"
   ]
  },
  {
   "cell_type": "code",
   "execution_count": 36,
   "metadata": {},
   "outputs": [],
   "source": [
    "cv_type_kfold = KFold(n_splits=10, shuffle=True, random_state=0)\n",
    "preprocess_with_ss = make_column_transformer((preprocessing.StandardScaler(), ~to_encode),\n",
    "                                     (preprocessing.OneHotEncoder(), to_encode))"
   ]
  },
  {
   "cell_type": "code",
   "execution_count": 37,
   "metadata": {},
   "outputs": [
    {
     "data": {
      "text/plain": [
       "0.748"
      ]
     },
     "execution_count": 37,
     "metadata": {},
     "output_type": "execute_result"
    }
   ],
   "source": [
    "logis_pipe = make_pipeline(preprocess_with_ss, LogisticRegression(max_iter=1000))\n",
    "param_grid = {'logisticregression__C': range(1, 10)}\n",
    "lr_grid = GridSearchCV(logis_pipe, param_grid, cv=cv_type_kfold, n_jobs=-1, return_train_score=True)\n",
    "lr_grid.fit(X_train_val, y_train_val)\n",
    "lr_grid.best_score_"
   ]
  },
  {
   "cell_type": "code",
   "execution_count": 38,
   "metadata": {},
   "outputs": [
    {
     "name": "stderr",
     "output_type": "stream",
     "text": [
      "/home/dipika/anaconda3/envs/applied_ml/lib/python3.8/site-packages/sklearn/svm/_base.py:946: ConvergenceWarning: Liblinear failed to converge, increase the number of iterations.\n",
      "  warnings.warn(\"Liblinear failed to converge, increase \"\n"
     ]
    },
    {
     "data": {
      "text/plain": [
       "0.7426666666666668"
      ]
     },
     "execution_count": 38,
     "metadata": {},
     "output_type": "execute_result"
    }
   ],
   "source": [
    "svm_pipe = make_pipeline(preprocess_with_ss, LinearSVC(max_iter=2000))\n",
    "param_grid = {'linearsvc__C': range(1, 10)}\n",
    "svc_grid = GridSearchCV(svm_pipe, param_grid, cv=cv_type_kfold, n_jobs=-1, return_train_score=True)\n",
    "svc_grid.fit(X_train_val, y_train_val)\n",
    "svc_grid.best_score_"
   ]
  },
  {
   "cell_type": "code",
   "execution_count": 39,
   "metadata": {},
   "outputs": [
    {
     "data": {
      "text/plain": [
       "0.728"
      ]
     },
     "execution_count": 39,
     "metadata": {},
     "output_type": "execute_result"
    }
   ],
   "source": [
    "nn_pipe = make_pipeline(preprocess_with_ss, KNeighborsClassifier())\n",
    "param_grid = {'kneighborsclassifier__n_neighbors': range(1, 10)}\n",
    "nn_grid = GridSearchCV(nn_pipe, param_grid, cv=cv_type_kfold, n_jobs=-1, return_train_score=True)\n",
    "nn_grid.fit(X_train_val, y_train_val)\n",
    "nn_grid.best_score_"
   ]
  },
  {
   "cell_type": "code",
   "execution_count": 40,
   "metadata": {},
   "outputs": [
    {
     "name": "stdout",
     "output_type": "stream",
     "text": [
      "{'logisticregression__C': 2}\n",
      "{'linearsvc__C': 6}\n",
      "{'kneighborsclassifier__n_neighbors': 9}\n"
     ]
    }
   ],
   "source": [
    "print(lr_grid.best_params_)\n",
    "print(svc_grid.best_params_)\n",
    "print(nn_grid.best_params_)"
   ]
  },
  {
   "cell_type": "markdown",
   "metadata": {},
   "source": [
    "Change the random state of the shuffling"
   ]
  },
  {
   "cell_type": "code",
   "execution_count": 41,
   "metadata": {},
   "outputs": [],
   "source": [
    "cv_type_kfold = KFold(n_splits=10, shuffle=True, random_state=5)\n",
    "preprocess_with_ss = make_column_transformer((preprocessing.StandardScaler(), ~to_encode),\n",
    "                                     (preprocessing.OneHotEncoder(), to_encode))"
   ]
  },
  {
   "cell_type": "code",
   "execution_count": 42,
   "metadata": {},
   "outputs": [
    {
     "data": {
      "text/plain": [
       "0.7546666666666668"
      ]
     },
     "execution_count": 42,
     "metadata": {},
     "output_type": "execute_result"
    }
   ],
   "source": [
    "logis_pipe = make_pipeline(preprocess_with_ss, LogisticRegression(max_iter=1000))\n",
    "param_grid = {'logisticregression__C': range(1, 10)}\n",
    "lr_grid = GridSearchCV(logis_pipe, param_grid, cv=cv_type_kfold, n_jobs=-1, return_train_score=True)\n",
    "lr_grid.fit(X_train_val, y_train_val)\n",
    "lr_grid.best_score_"
   ]
  },
  {
   "cell_type": "code",
   "execution_count": 43,
   "metadata": {},
   "outputs": [
    {
     "name": "stderr",
     "output_type": "stream",
     "text": [
      "/home/dipika/anaconda3/envs/applied_ml/lib/python3.8/site-packages/sklearn/svm/_base.py:946: ConvergenceWarning: Liblinear failed to converge, increase the number of iterations.\n",
      "  warnings.warn(\"Liblinear failed to converge, increase \"\n"
     ]
    },
    {
     "data": {
      "text/plain": [
       "0.7493333333333332"
      ]
     },
     "execution_count": 43,
     "metadata": {},
     "output_type": "execute_result"
    }
   ],
   "source": [
    "svm_pipe = make_pipeline(preprocess_with_ss, LinearSVC(max_iter=2000))\n",
    "param_grid = {'linearsvc__C': range(1, 10)}\n",
    "svc_grid = GridSearchCV(svm_pipe, param_grid, cv=cv_type_kfold, n_jobs=-1, return_train_score=True)\n",
    "svc_grid.fit(X_train_val, y_train_val)\n",
    "svc_grid.best_score_"
   ]
  },
  {
   "cell_type": "code",
   "execution_count": 44,
   "metadata": {},
   "outputs": [
    {
     "data": {
      "text/plain": [
       "0.7320000000000001"
      ]
     },
     "execution_count": 44,
     "metadata": {},
     "output_type": "execute_result"
    }
   ],
   "source": [
    "nn_pipe = make_pipeline(preprocess_with_ss, KNeighborsClassifier())\n",
    "param_grid = {'kneighborsclassifier__n_neighbors': range(1, 10)}\n",
    "nn_grid = GridSearchCV(nn_pipe, param_grid, cv=cv_type_kfold, n_jobs=-1, return_train_score=True)\n",
    "nn_grid.fit(X_train_val, y_train_val)\n",
    "nn_grid.best_score_"
   ]
  },
  {
   "cell_type": "code",
   "execution_count": 45,
   "metadata": {},
   "outputs": [
    {
     "name": "stdout",
     "output_type": "stream",
     "text": [
      "{'logisticregression__C': 1}\n",
      "{'linearsvc__C': 4}\n",
      "{'kneighborsclassifier__n_neighbors': 9}\n"
     ]
    }
   ],
   "source": [
    "print(lr_grid.best_params_)\n",
    "print(svc_grid.best_params_)\n",
    "print(nn_grid.best_params_)"
   ]
  },
  {
   "cell_type": "markdown",
   "metadata": {},
   "source": [
    "Changing random state of the split for training and testing"
   ]
  },
  {
   "cell_type": "code",
   "execution_count": 46,
   "metadata": {},
   "outputs": [],
   "source": [
    "X_train_val, X_test, y_train_val, y_test = train_test_split(df.data, encoded_target, stratify=encoded_target, shuffle=True, random_state=5)"
   ]
  },
  {
   "cell_type": "code",
   "execution_count": 47,
   "metadata": {},
   "outputs": [],
   "source": [
    "cv_type_kfold = KFold(n_splits=10, shuffle=True, random_state=5)\n",
    "preprocess_with_ss = make_column_transformer((preprocessing.StandardScaler(), ~to_encode),\n",
    "                                     (preprocessing.OneHotEncoder(), to_encode))"
   ]
  },
  {
   "cell_type": "code",
   "execution_count": 48,
   "metadata": {},
   "outputs": [
    {
     "data": {
      "text/plain": [
       "0.7586666666666668"
      ]
     },
     "execution_count": 48,
     "metadata": {},
     "output_type": "execute_result"
    }
   ],
   "source": [
    "logis_pipe = make_pipeline(preprocess_with_ss, LogisticRegression(max_iter=1000))\n",
    "param_grid = {'logisticregression__C': range(1, 10)}\n",
    "lr_grid = GridSearchCV(logis_pipe, param_grid, cv=cv_type_kfold, n_jobs=-1, return_train_score=True)\n",
    "lr_grid.fit(X_train_val, y_train_val)\n",
    "lr_grid.best_score_"
   ]
  },
  {
   "cell_type": "code",
   "execution_count": 49,
   "metadata": {},
   "outputs": [
    {
     "name": "stderr",
     "output_type": "stream",
     "text": [
      "/home/dipika/anaconda3/envs/applied_ml/lib/python3.8/site-packages/sklearn/svm/_base.py:946: ConvergenceWarning: Liblinear failed to converge, increase the number of iterations.\n",
      "  warnings.warn(\"Liblinear failed to converge, increase \"\n"
     ]
    },
    {
     "data": {
      "text/plain": [
       "0.7546666666666667"
      ]
     },
     "execution_count": 49,
     "metadata": {},
     "output_type": "execute_result"
    }
   ],
   "source": [
    "svm_pipe = make_pipeline(preprocess_with_ss, LinearSVC(max_iter=2000))\n",
    "param_grid = {'linearsvc__C': range(1, 10)}\n",
    "svc_grid = GridSearchCV(svm_pipe, param_grid, cv=cv_type_kfold, n_jobs=-1, return_train_score=True)\n",
    "svc_grid.fit(X_train_val, y_train_val)\n",
    "svc_grid.best_score_"
   ]
  },
  {
   "cell_type": "code",
   "execution_count": 50,
   "metadata": {},
   "outputs": [
    {
     "data": {
      "text/plain": [
       "0.7466666666666667"
      ]
     },
     "execution_count": 50,
     "metadata": {},
     "output_type": "execute_result"
    }
   ],
   "source": [
    "nn_pipe = make_pipeline(preprocess_with_ss, KNeighborsClassifier())\n",
    "param_grid = {'kneighborsclassifier__n_neighbors': range(1, 10)}\n",
    "nn_grid = GridSearchCV(nn_pipe, param_grid, cv=cv_type_kfold, n_jobs=-1, return_train_score=True)\n",
    "nn_grid.fit(X_train_val, y_train_val)\n",
    "nn_grid.best_score_"
   ]
  },
  {
   "cell_type": "code",
   "execution_count": 51,
   "metadata": {},
   "outputs": [
    {
     "name": "stdout",
     "output_type": "stream",
     "text": [
      "{'logisticregression__C': 1}\n",
      "{'linearsvc__C': 4}\n",
      "{'kneighborsclassifier__n_neighbors': 3}\n"
     ]
    }
   ],
   "source": [
    "print(lr_grid.best_params_)\n",
    "print(svc_grid.best_params_)\n",
    "print(nn_grid.best_params_)"
   ]
  },
  {
   "cell_type": "markdown",
   "metadata": {},
   "source": [
    "## 1.7 \n",
    "Visualize the 20 most important coefficients for LogisticRegression and Linear Support\n",
    "Vector Machines using hyper-parameters that performed well in the grid-search."
   ]
  },
  {
   "cell_type": "code",
   "execution_count": 130,
   "metadata": {},
   "outputs": [
    {
     "data": {
      "text/plain": [
       "array([[-1.03681148e-01, -1.18780726e-01, -1.34857865e-01,\n",
       "        -1.29568974e-02,  4.23713613e-02, -8.08385105e-02,\n",
       "        -3.14422024e-02, -7.73210626e-02, -2.57151644e-01,\n",
       "         8.24849248e-02,  3.85181955e-01, -1.81556339e-01,\n",
       "         3.48508495e-01,  1.74790115e-01,  2.18726193e-02,\n",
       "        -2.30420717e-01, -2.48007681e-02,  6.17386451e-02,\n",
       "        -3.88276728e-01, -2.60916701e-03, -2.73433552e-01,\n",
       "         4.82492319e-01, -3.76131431e-03, -2.47196660e-01,\n",
       "         1.95651602e-01,  3.33389797e-01, -3.85209619e-02,\n",
       "         2.00349765e-02, -1.11516831e-01,  1.38709854e-01,\n",
       "         1.24487135e-01, -3.38735363e-04,  2.11012216e-01,\n",
       "         1.22351700e-02,  1.07044081e-01, -1.96758558e-01,\n",
       "        -3.99133902e-03, -1.49227801e-01,  1.15799449e-01,\n",
       "         1.70613864e-01, -1.74543614e-01,  2.50908902e-01,\n",
       "         5.68288864e-02,  8.64098021e-02,  6.09626669e-02,\n",
       "        -1.76932698e-01,  1.62754403e-01, -9.43767435e-02,\n",
       "         1.85992151e-01,  4.15787659e-02,  1.78680017e-01,\n",
       "         5.53519727e-02, -1.00837816e-01, -4.84680857e-02,\n",
       "        -6.16939637e-02,  2.90717543e-01, -4.73613201e-02,\n",
       "        -6.03633580e-03,  1.39230509e-01,  3.77497103e-01,\n",
       "        -2.44302930e-01]])"
      ]
     },
     "execution_count": 130,
     "metadata": {},
     "output_type": "execute_result"
    }
   ],
   "source": [
    "# Use the best one\n",
    "svc_grid.best_estimator_['linearsvc'].coef_"
   ]
  },
  {
   "cell_type": "code",
   "execution_count": 135,
   "metadata": {},
   "outputs": [
    {
     "data": {
      "text/plain": [
       "array([[-0.82979464, -0.74213231, -0.73490564, -0.68346454, -0.56672682,\n",
       "        -0.48989734, -0.46426064, -0.44334315, -0.43990929, -0.39450369,\n",
       "        -0.39257413, -0.39071879, -0.37385364, -0.37223003, -0.33348951,\n",
       "        -0.33193848, -0.32985563, -0.28664026, -0.21976301, -0.2107346 ,\n",
       "        -0.16576882, -0.14880664, -0.14436667, -0.11710205, -0.11518641,\n",
       "        -0.11514696, -0.08563973, -0.06712091, -0.05760416, -0.03827064,\n",
       "        -0.03567848, -0.0012475 ,  0.00294799,  0.00323996,  0.00421401,\n",
       "         0.0284477 ,  0.03137576,  0.05425013,  0.06699364,  0.10690406,\n",
       "         0.12710183,  0.14498974,  0.16089284,  0.18663431,  0.21839472,\n",
       "         0.22078777,  0.23675952,  0.26752063,  0.28472317,  0.31803849,\n",
       "         0.33244452,  0.36194022,  0.3906509 ,  0.40934503,  0.4376941 ,\n",
       "         0.46769803,  0.61943903,  0.74315707,  0.80489321,  0.8770252 ,\n",
       "         1.0115359 ]])"
      ]
     },
     "execution_count": 135,
     "metadata": {},
     "output_type": "execute_result"
    }
   ],
   "source": [
    "coef_lr = lr_grid.best_estimator_['logisticregression'].coef_\n",
    "coef_lr.sort()"
   ]
  },
  {
   "cell_type": "code",
   "execution_count": null,
   "metadata": {},
   "outputs": [],
   "source": []
  }
 ],
 "metadata": {
  "kernelspec": {
   "display_name": "applied_ml",
   "language": "python",
   "name": "applied_ml"
  },
  "language_info": {
   "codemirror_mode": {
    "name": "ipython",
    "version": 3
   },
   "file_extension": ".py",
   "mimetype": "text/x-python",
   "name": "python",
   "nbconvert_exporter": "python",
   "pygments_lexer": "ipython3",
   "version": "3.8.1"
  }
 },
 "nbformat": 4,
 "nbformat_minor": 2
}
