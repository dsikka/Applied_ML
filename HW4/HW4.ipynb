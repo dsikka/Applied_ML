{
 "cells": [
  {
   "cell_type": "code",
   "execution_count": 184,
   "metadata": {},
   "outputs": [],
   "source": [
    "import pandas as pd \n",
    "import matplotlib.pyplot as plt\n",
    "import numpy as np\n",
    "import sklearn\n",
    "from sklearn.impute import SimpleImputer, KNNImputer\n",
    "from category_encoders import TargetEncoder\n",
    "from sklearn import preprocessing\n",
    "from sklearn.pipeline import make_pipeline\n",
    "from sklearn.compose import make_column_transformer\n",
    "from sklearn.model_selection import train_test_split, KFold, cross_val_score, GridSearchCV\n",
    "from sklearn.linear_model import Lasso, Ridge, RidgeCV\n",
    "from sklearn.feature_extraction.text import CountVectorizer"
   ]
  },
  {
   "cell_type": "markdown",
   "metadata": {},
   "source": [
    "# Task 1 - BOW and Simple Features"
   ]
  },
  {
   "cell_type": "code",
   "execution_count": 133,
   "metadata": {},
   "outputs": [],
   "source": [
    "# Read data and drop all non-US wines\n",
    "wine_data_150 = pd.read_csv('wine-reviews/winemag-data_first150k.csv', index_col=0)\n",
    "wine_data_150 = wine_data_150[wine_data_150['country'] == 'US']"
   ]
  },
  {
   "cell_type": "code",
   "execution_count": 134,
   "metadata": {},
   "outputs": [],
   "source": [
    "# Remove outliers and sample data, taking half of the dataset\n",
    "wine_data_150 = wine_data_150.sample(frac=0.5)"
   ]
  },
  {
   "cell_type": "markdown",
   "metadata": {},
   "source": [
    "Drop the 'country' column as it is the US for all the data given. Also remove 'points' from data as that is what will be predicted/indicative of wine quality."
   ]
  },
  {
   "cell_type": "code",
   "execution_count": 135,
   "metadata": {
    "scrolled": true
   },
   "outputs": [
    {
     "data": {
      "text/html": [
       "<div>\n",
       "<style scoped>\n",
       "    .dataframe tbody tr th:only-of-type {\n",
       "        vertical-align: middle;\n",
       "    }\n",
       "\n",
       "    .dataframe tbody tr th {\n",
       "        vertical-align: top;\n",
       "    }\n",
       "\n",
       "    .dataframe thead th {\n",
       "        text-align: right;\n",
       "    }\n",
       "</style>\n",
       "<table border=\"1\" class=\"dataframe\">\n",
       "  <thead>\n",
       "    <tr style=\"text-align: right;\">\n",
       "      <th></th>\n",
       "      <th>description</th>\n",
       "      <th>designation</th>\n",
       "      <th>price</th>\n",
       "      <th>province</th>\n",
       "      <th>region_1</th>\n",
       "      <th>region_2</th>\n",
       "      <th>variety</th>\n",
       "      <th>winery</th>\n",
       "    </tr>\n",
       "  </thead>\n",
       "  <tbody>\n",
       "    <tr>\n",
       "      <th>89070</th>\n",
       "      <td>Tough and gritty in texture, with a raisined e...</td>\n",
       "      <td>NaN</td>\n",
       "      <td>22.0</td>\n",
       "      <td>California</td>\n",
       "      <td>Paso Robles</td>\n",
       "      <td>Central Coast</td>\n",
       "      <td>Merlot</td>\n",
       "      <td>Bianchi</td>\n",
       "    </tr>\n",
       "    <tr>\n",
       "      <th>42239</th>\n",
       "      <td>There are delicious flavors in this ripe Syrah...</td>\n",
       "      <td>Farráh</td>\n",
       "      <td>18.0</td>\n",
       "      <td>California</td>\n",
       "      <td>Lodi</td>\n",
       "      <td>Central Valley</td>\n",
       "      <td>Syrah</td>\n",
       "      <td>Klinker Brick</td>\n",
       "    </tr>\n",
       "    <tr>\n",
       "      <th>77006</th>\n",
       "      <td>This Cabernet Sauvignon has splashes of Merlot...</td>\n",
       "      <td>NaN</td>\n",
       "      <td>25.0</td>\n",
       "      <td>Washington</td>\n",
       "      <td>Columbia Valley (WA)</td>\n",
       "      <td>Columbia Valley</td>\n",
       "      <td>Cabernet Sauvignon</td>\n",
       "      <td>Novelty Hill</td>\n",
       "    </tr>\n",
       "    <tr>\n",
       "      <th>70425</th>\n",
       "      <td>Laurent and Danielle Montalieu acquired this h...</td>\n",
       "      <td>Hyland Vineyard</td>\n",
       "      <td>45.0</td>\n",
       "      <td>Oregon</td>\n",
       "      <td>Eola-Amity Hills</td>\n",
       "      <td>Willamette Valley</td>\n",
       "      <td>Pinot Noir</td>\n",
       "      <td>Soléna</td>\n",
       "    </tr>\n",
       "    <tr>\n",
       "      <th>108346</th>\n",
       "      <td>Definitely a New World style, this tasty Tempr...</td>\n",
       "      <td>NaN</td>\n",
       "      <td>28.0</td>\n",
       "      <td>Washington</td>\n",
       "      <td>Walla Walla Valley (WA)</td>\n",
       "      <td>Columbia Valley</td>\n",
       "      <td>Tempranillo</td>\n",
       "      <td>Trio Vintners</td>\n",
       "    </tr>\n",
       "  </tbody>\n",
       "</table>\n",
       "</div>"
      ],
      "text/plain": [
       "                                              description      designation  \\\n",
       "89070   Tough and gritty in texture, with a raisined e...              NaN   \n",
       "42239   There are delicious flavors in this ripe Syrah...           Farráh   \n",
       "77006   This Cabernet Sauvignon has splashes of Merlot...              NaN   \n",
       "70425   Laurent and Danielle Montalieu acquired this h...  Hyland Vineyard   \n",
       "108346  Definitely a New World style, this tasty Tempr...              NaN   \n",
       "\n",
       "        price    province                 region_1           region_2  \\\n",
       "89070    22.0  California              Paso Robles      Central Coast   \n",
       "42239    18.0  California                     Lodi     Central Valley   \n",
       "77006    25.0  Washington     Columbia Valley (WA)    Columbia Valley   \n",
       "70425    45.0      Oregon         Eola-Amity Hills  Willamette Valley   \n",
       "108346   28.0  Washington  Walla Walla Valley (WA)    Columbia Valley   \n",
       "\n",
       "                   variety         winery  \n",
       "89070               Merlot        Bianchi  \n",
       "42239                Syrah  Klinker Brick  \n",
       "77006   Cabernet Sauvignon   Novelty Hill  \n",
       "70425           Pinot Noir         Soléna  \n",
       "108346         Tempranillo  Trio Vintners  "
      ]
     },
     "execution_count": 135,
     "metadata": {},
     "output_type": "execute_result"
    }
   ],
   "source": [
    "points = wine_data_150['points']\n",
    "X = wine_data_150.drop(columns=['country', 'points'])\n",
    "X.head()"
   ]
  },
  {
   "cell_type": "markdown",
   "metadata": {},
   "source": [
    "### Impute missing values (all except 'description')"
   ]
  },
  {
   "cell_type": "code",
   "execution_count": 136,
   "metadata": {},
   "outputs": [],
   "source": [
    "categorical = ['designation', 'province', 'region_1', 'region_2', 'variety', 'winery']\n",
    "continuous = ['price']\n",
    "impute_categorical = SimpleImputer(strategy='most_frequent', missing_values=np.nan)\n",
    "impute_float = KNNImputer(missing_values=np.nan)"
   ]
  },
  {
   "cell_type": "code",
   "execution_count": 137,
   "metadata": {},
   "outputs": [],
   "source": [
    "X[categorical] = impute_categorical.fit_transform(X[categorical])\n",
    "X[continuous] = impute_float.fit_transform(X[continuous])"
   ]
  },
  {
   "cell_type": "markdown",
   "metadata": {},
   "source": [
    "### To Do:\n",
    "- Visualize features if we think we should (all except 'description')\n",
    "- Remove outliers \n",
    "- Any other features which are correlated and can be removed?"
   ]
  },
  {
   "cell_type": "markdown",
   "metadata": {},
   "source": [
    "## 1.1 - Create a simpe baseline model with all non-text features"
   ]
  },
  {
   "cell_type": "code",
   "execution_count": 138,
   "metadata": {},
   "outputs": [
    {
     "name": "stdout",
     "output_type": "stream",
     "text": [
      "Number of different categories in each feature: \n",
      "Province: 23\n",
      "Designation: 7951\n",
      "Region 1: 241\n",
      "Region 2: 18\n",
      "Variety: 190\n",
      "Winery: 4051\n"
     ]
    }
   ],
   "source": [
    "print('Number of different categories in each feature: ')\n",
    "print(f'Province: {len(np.unique(X.province))}')\n",
    "print(f'Designation: {len(np.unique(X.designation))}')\n",
    "print(f'Region 1: {len(np.unique(X.region_1))}')\n",
    "print(f'Region 2: {len(np.unique(X.region_2))}')\n",
    "print(f'Variety: {len(np.unique(X.variety))}')\n",
    "print(f'Winery: {len(np.unique(X.winery))}')"
   ]
  },
  {
   "cell_type": "code",
   "execution_count": 150,
   "metadata": {},
   "outputs": [],
   "source": [
    "X_train, X_test, y_train, y_test = train_test_split(X, points, shuffle=True, random_state=0)\n",
    "cv_strategy = KFold(n_splits=10, shuffle=True, random_state=5)"
   ]
  },
  {
   "cell_type": "code",
   "execution_count": 151,
   "metadata": {},
   "outputs": [],
   "source": [
    "# Remove the description column\n",
    "X_train_no_description = X_train.drop(columns=['description'])"
   ]
  },
  {
   "cell_type": "code",
   "execution_count": 152,
   "metadata": {},
   "outputs": [],
   "source": [
    "# Encode categorical features \n",
    "to_target_encode = ['designation', 'winery', 'variety', 'region_1', 'region_2']\n",
    "to_ohe = ['province']\n",
    "to_scale = ['price']\n",
    "# Create column transformer\n",
    "target_encoding = make_pipeline(TargetEncoder(), preprocessing.StandardScaler())\n",
    "ohe = make_pipeline(preprocessing.OneHotEncoder(handle_unknown='ignore'))\n",
    "scale = make_pipeline(preprocessing.StandardScaler())\n",
    "preprocessing_pipe = make_column_transformer((target_encoding, to_target_encode),\n",
    "                                            (ohe, to_ohe),\n",
    "                                            (scale, to_scale),\n",
    "                                            remainder='passthrough')"
   ]
  },
  {
   "cell_type": "code",
   "execution_count": 153,
   "metadata": {},
   "outputs": [
    {
     "data": {
      "text/html": [
       "<div>\n",
       "<style scoped>\n",
       "    .dataframe tbody tr th:only-of-type {\n",
       "        vertical-align: middle;\n",
       "    }\n",
       "\n",
       "    .dataframe tbody tr th {\n",
       "        vertical-align: top;\n",
       "    }\n",
       "\n",
       "    .dataframe thead th {\n",
       "        text-align: right;\n",
       "    }\n",
       "</style>\n",
       "<table border=\"1\" class=\"dataframe\">\n",
       "  <thead>\n",
       "    <tr style=\"text-align: right;\">\n",
       "      <th></th>\n",
       "      <th>designation</th>\n",
       "      <th>price</th>\n",
       "      <th>province</th>\n",
       "      <th>region_1</th>\n",
       "      <th>region_2</th>\n",
       "      <th>variety</th>\n",
       "      <th>winery</th>\n",
       "    </tr>\n",
       "  </thead>\n",
       "  <tbody>\n",
       "    <tr>\n",
       "      <th>121553</th>\n",
       "      <td>Preston Vineyard</td>\n",
       "      <td>45.0</td>\n",
       "      <td>California</td>\n",
       "      <td>Napa Valley</td>\n",
       "      <td>Napa</td>\n",
       "      <td>Cabernet Sauvignon</td>\n",
       "      <td>V. Sattui</td>\n",
       "    </tr>\n",
       "    <tr>\n",
       "      <th>81528</th>\n",
       "      <td>Reserve</td>\n",
       "      <td>25.0</td>\n",
       "      <td>California</td>\n",
       "      <td>Carneros</td>\n",
       "      <td>Napa-Sonoma</td>\n",
       "      <td>Pinot Noir</td>\n",
       "      <td>Buena Vista</td>\n",
       "    </tr>\n",
       "    <tr>\n",
       "      <th>146982</th>\n",
       "      <td>Harazsthy Collection</td>\n",
       "      <td>25.0</td>\n",
       "      <td>California</td>\n",
       "      <td>Carneros</td>\n",
       "      <td>Napa-Sonoma</td>\n",
       "      <td>White Blend</td>\n",
       "      <td>Buena Vista</td>\n",
       "    </tr>\n",
       "    <tr>\n",
       "      <th>93104</th>\n",
       "      <td>Reserve</td>\n",
       "      <td>20.0</td>\n",
       "      <td>California</td>\n",
       "      <td>Fiddletown</td>\n",
       "      <td>Sierra Foothills</td>\n",
       "      <td>Zinfandel</td>\n",
       "      <td>Renwood</td>\n",
       "    </tr>\n",
       "    <tr>\n",
       "      <th>26114</th>\n",
       "      <td>Reserve</td>\n",
       "      <td>10.0</td>\n",
       "      <td>California</td>\n",
       "      <td>California</td>\n",
       "      <td>California Other</td>\n",
       "      <td>Merlot</td>\n",
       "      <td>Montevina</td>\n",
       "    </tr>\n",
       "    <tr>\n",
       "      <th>...</th>\n",
       "      <td>...</td>\n",
       "      <td>...</td>\n",
       "      <td>...</td>\n",
       "      <td>...</td>\n",
       "      <td>...</td>\n",
       "      <td>...</td>\n",
       "      <td>...</td>\n",
       "    </tr>\n",
       "    <tr>\n",
       "      <th>119031</th>\n",
       "      <td>Reserve</td>\n",
       "      <td>42.0</td>\n",
       "      <td>California</td>\n",
       "      <td>Napa Valley</td>\n",
       "      <td>Napa</td>\n",
       "      <td>Cabernet Sauvignon</td>\n",
       "      <td>Jax</td>\n",
       "    </tr>\n",
       "    <tr>\n",
       "      <th>6469</th>\n",
       "      <td>Reserve</td>\n",
       "      <td>32.0</td>\n",
       "      <td>California</td>\n",
       "      <td>Livermore Valley</td>\n",
       "      <td>Central Coast</td>\n",
       "      <td>Malbec</td>\n",
       "      <td>Cuda Ridge Wines</td>\n",
       "    </tr>\n",
       "    <tr>\n",
       "      <th>66499</th>\n",
       "      <td>Unfltered</td>\n",
       "      <td>19.0</td>\n",
       "      <td>California</td>\n",
       "      <td>Anderson Valley</td>\n",
       "      <td>Mendocino/Lake Counties</td>\n",
       "      <td>Pinot Noir</td>\n",
       "      <td>Philo Ridge</td>\n",
       "    </tr>\n",
       "    <tr>\n",
       "      <th>204</th>\n",
       "      <td>Reserve</td>\n",
       "      <td>10.0</td>\n",
       "      <td>Washington</td>\n",
       "      <td>Columbia Valley (WA)</td>\n",
       "      <td>Columbia Valley</td>\n",
       "      <td>Gewürztraminer</td>\n",
       "      <td>Chateau Ste. Michelle</td>\n",
       "    </tr>\n",
       "    <tr>\n",
       "      <th>101960</th>\n",
       "      <td>Reserve</td>\n",
       "      <td>11.0</td>\n",
       "      <td>California</td>\n",
       "      <td>North Coast</td>\n",
       "      <td>North Coast</td>\n",
       "      <td>Chardonnay</td>\n",
       "      <td>Dynamite Vineyards</td>\n",
       "    </tr>\n",
       "  </tbody>\n",
       "</table>\n",
       "<p>23398 rows × 7 columns</p>\n",
       "</div>"
      ],
      "text/plain": [
       "                 designation  price    province              region_1  \\\n",
       "121553      Preston Vineyard   45.0  California           Napa Valley   \n",
       "81528                Reserve   25.0  California              Carneros   \n",
       "146982  Harazsthy Collection   25.0  California              Carneros   \n",
       "93104                Reserve   20.0  California            Fiddletown   \n",
       "26114                Reserve   10.0  California            California   \n",
       "...                      ...    ...         ...                   ...   \n",
       "119031               Reserve   42.0  California           Napa Valley   \n",
       "6469                 Reserve   32.0  California      Livermore Valley   \n",
       "66499              Unfltered   19.0  California       Anderson Valley   \n",
       "204                  Reserve   10.0  Washington  Columbia Valley (WA)   \n",
       "101960               Reserve   11.0  California           North Coast   \n",
       "\n",
       "                       region_2             variety                 winery  \n",
       "121553                     Napa  Cabernet Sauvignon              V. Sattui  \n",
       "81528               Napa-Sonoma          Pinot Noir            Buena Vista  \n",
       "146982              Napa-Sonoma         White Blend            Buena Vista  \n",
       "93104          Sierra Foothills           Zinfandel                Renwood  \n",
       "26114          California Other              Merlot              Montevina  \n",
       "...                         ...                 ...                    ...  \n",
       "119031                     Napa  Cabernet Sauvignon                    Jax  \n",
       "6469              Central Coast              Malbec       Cuda Ridge Wines  \n",
       "66499   Mendocino/Lake Counties          Pinot Noir            Philo Ridge  \n",
       "204             Columbia Valley      Gewürztraminer  Chateau Ste. Michelle  \n",
       "101960              North Coast          Chardonnay     Dynamite Vineyards  \n",
       "\n",
       "[23398 rows x 7 columns]"
      ]
     },
     "execution_count": 153,
     "metadata": {},
     "output_type": "execute_result"
    }
   ],
   "source": [
    "X_train_no_description"
   ]
  },
  {
   "cell_type": "markdown",
   "metadata": {},
   "source": [
    "### NOTE: Im assuming based on the assignment question that this is to be done using all features EXCEPT for 'description'"
   ]
  },
  {
   "cell_type": "code",
   "execution_count": 168,
   "metadata": {},
   "outputs": [
    {
     "data": {
      "text/plain": [
       "0.4426018677021066"
      ]
     },
     "execution_count": 168,
     "metadata": {},
     "output_type": "execute_result"
    }
   ],
   "source": [
    "ridge_pipe = make_pipeline(preprocessing_pipe, Ridge())\n",
    "param_grid = {'ridge__alpha': np.logspace(-3,3,10)}\n",
    "ridge_grid = GridSearchCV(ridge_pipe, param_grid, cv=cv_strategy, n_jobs=-1, return_train_score=True)\n",
    "ridge_grid.fit(X_train_no_description, y_train)\n",
    "ridge_grid.best_score_"
   ]
  },
  {
   "cell_type": "code",
   "execution_count": 169,
   "metadata": {},
   "outputs": [
    {
     "data": {
      "text/plain": [
       "0.4406544487318941"
      ]
     },
     "execution_count": 169,
     "metadata": {},
     "output_type": "execute_result"
    }
   ],
   "source": [
    "lasso_pipe = make_pipeline(preprocessing_pipe, Lasso())\n",
    "param_grid = {'lasso__alpha': np.logspace(-3,3,10)}\n",
    "lasso_grid = GridSearchCV(lasso_pipe, param_grid, cv=cv_strategy, n_jobs=-1, return_train_score=True)\n",
    "lasso_grid.fit(X_train_no_description, y_train)\n",
    "lasso_grid.best_score_"
   ]
  },
  {
   "cell_type": "markdown",
   "metadata": {},
   "source": [
    "## 1.2 - Create a simple text-based model using a bag-of-words approach and a linear model"
   ]
  },
  {
   "cell_type": "markdown",
   "metadata": {},
   "source": [
    "### NOTE: Im assuming based on the homework question that this is to be done using only the 'description' feature as later on in the question, we have to combine both of them together (text and non-text features)"
   ]
  },
  {
   "cell_type": "code",
   "execution_count": 156,
   "metadata": {},
   "outputs": [],
   "source": [
    "train_text = []\n",
    "for x in X_train['description']:\n",
    "    train_text.append(x)"
   ]
  },
  {
   "cell_type": "code",
   "execution_count": 189,
   "metadata": {},
   "outputs": [],
   "source": [
    "# This is outside of a pipeline because it was being annoying lol\n",
    "token_vect = CountVectorizer(token_pattern=r\"\\b\\w[\\w’]+\\b\", \n",
    "                             lowercase=True,\n",
    "                             stop_words='english',\n",
    "                             min_df=4,\n",
    "                             max_features=1000)\n",
    "desc_tokenized = token_vect.fit_transform(X_train['description'])"
   ]
  },
  {
   "cell_type": "code",
   "execution_count": 193,
   "metadata": {},
   "outputs": [
    {
     "data": {
      "text/plain": [
       "0.6847920648408021"
      ]
     },
     "execution_count": 193,
     "metadata": {},
     "output_type": "execute_result"
    }
   ],
   "source": [
    "param_grid = {'alpha': np.logspace(-3,3,10)}\n",
    "ridge_grid = GridSearchCV(Ridge(), param_grid, cv=cv_strategy, n_jobs=-1, return_train_score=True)\n",
    "ridge_grid.fit(desc_tokenized, y_train)\n",
    "ridge_grid.best_score_"
   ]
  },
  {
   "cell_type": "code",
   "execution_count": 194,
   "metadata": {},
   "outputs": [
    {
     "data": {
      "text/plain": [
       "0.6821748595782734"
      ]
     },
     "execution_count": 194,
     "metadata": {},
     "output_type": "execute_result"
    }
   ],
   "source": [
    "param_grid = {'alpha': np.logspace(-3,3,10)}\n",
    "lasso_grid = GridSearchCV(Lasso(), param_grid, cv=cv_strategy, n_jobs=-1, return_train_score=True)\n",
    "lasso_grid.fit(desc_tokenized, y_train)\n",
    "lasso_grid.best_score_"
   ]
  }
 ],
 "metadata": {
  "kernelspec": {
   "display_name": "applied_ml",
   "language": "python",
   "name": "applied_ml"
  },
  "language_info": {
   "codemirror_mode": {
    "name": "ipython",
    "version": 3
   },
   "file_extension": ".py",
   "mimetype": "text/x-python",
   "name": "python",
   "nbconvert_exporter": "python",
   "pygments_lexer": "ipython3",
   "version": "3.8.1"
  }
 },
 "nbformat": 4,
 "nbformat_minor": 2
}
